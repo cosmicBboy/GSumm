{
 "metadata": {
  "name": ""
 },
 "nbformat": 3,
 "nbformat_minor": 0,
 "worksheets": [
  {
   "cells": [
    {
     "cell_type": "markdown",
     "metadata": {},
     "source": [
      "# Exploring the BMCPH Journal Corpus"
     ]
    },
    {
     "cell_type": "code",
     "collapsed": false,
     "input": [
      "from gensim import models, corpora\n",
      "import logging\n",
      "logging.basicConfig(format='%(asctime)s : %(levelname)s : %(message)s', level=logging.INFO)"
     ],
     "language": "python",
     "metadata": {},
     "outputs": [],
     "prompt_number": 1
    },
    {
     "cell_type": "code",
     "collapsed": false,
     "input": [
      "with open('../corpus/mediumData.txt', 'r') as documents:\n",
      "    text = [line for line in documents.readlines()]"
     ],
     "language": "python",
     "metadata": {},
     "outputs": [],
     "prompt_number": 3
    },
    {
     "cell_type": "code",
     "collapsed": false,
     "input": [
      "text[998]"
     ],
     "language": "python",
     "metadata": {},
     "outputs": [
      {
       "metadata": {},
       "output_type": "pyout",
       "prompt_number": 10,
       "text": [
        "'  Background Tanzania has one of the highest maternal mortality ratios in sub Saharan Africa Due to the paucity of epidemiological information on maternal deaths and the high maternal mortality estimates found earlier in the study area our objective was to assess determinants of maternal deaths in a rural setting in the highlands of northern Tanzania by comparing the women dying of maternal causes with women from the same population who had attended antenatal clinics in the same time period   Methods A case control study was done in two administrative divisions in Mbulu and Hanang districts in rural Tanzania Forty five cases of maternal death were found through a comprehensive community and health facility based study in and while antenatal attendees from four antenatal clinics in the same population geographical area and time span of served as controls The cases and controls were compared using multivariate logistic regression analyses Odds ratios with confidence intervals were used as an approximation of relative risk and were adjusted for place of residence and age Further adjustment was done for potentially confounding variables   Results An increased risk of maternal deaths was found for women from years versus years Women from ethnic groups other than the two indigenous groups of the area had an increased risk of maternal death There was an increased risk when women or husbands adhered to traditional beliefs and respectively Women whose husbands did not have any formal education appeared to have an increased risk   Conclusion Increasing maternal age ethnic and religious affiliation and low formal education of the husbands were associated with increased risk of maternal death Increased attention needs to be given to formal education of both men and women In addition education of the male decision makers should be given high priority in the community especially in matters concerning pregnancy and delivery preparedness since their choice greatly affects the survival of the pregnant and delivering women    Background Maternal mortality has recently been included among the Millennium Development Goals In spite of national efforts Tanzania has one of the highest maternal mortality ratios in Sub Saharan Africa with national estimates as high as in at the time of the present study increasing to per live births in Loudon noted how maternal deaths throughout history have been and still are devastating in a way that other causes of death are not He emphasised how maternal care and maternal deaths cannot be divided into neat compartments categorised as social political economic demographic professional or clinical His historical and statistical overview reveals the complexity and multi factorial aspects of maternal mortality Individual risk factors such as age parity and education among others may only be markers for groups of women at increased risk rather than direct causes of poor outcome and hence poor predictors of risk Presently it is acknowledged that the ability to discriminate between women at high and low risk in all formal risk scoring systems is poor Consequently all pregnant women are at risk of maternal death Thus some of the main international strategies to reduce maternal mortality are operational rather than risk oriented such as improving the quality and availability of emergency obstetric facilities and increasing the number of births attended to by a skilled attendant In order to influence and develop public health strategies in the quest for reducing the high mortality rates in many developing countries research on risk factors is still valid Several studies have been done on maternal mortality and on the assessment of risk factors for maternal deaths in Tanzania and elsewhere These have revealed that age parity education of mothers obstetric factors unavailability of health facilities and trained health personnel and socio economic factors are associated with an increased risk of maternal death There is a beginning transition to the more modern society in some parts of the study area bringing societal and cultural change On the other hand people in other parts of this area still adhere to a way of living that has been largely unchanged through generations with the families being headed by male decision makers who have great influence on all matters related to pregnancy and childbirth Previous research in the study area showed an MMR of per live births Hence due to the paucity of epidemiological information on maternal deaths the cultural and societal conditions and the high estimated maternal mortality ratio our objective was to assess determinants of maternal mortality in this rural setting in the highlands of northern Tanzania by comparing the women dying of maternal causes with women who had attended antenatal clinics and had not died   Methods  Study area and target population The study area was situated in Mbulu and Hanang districts in Arusha region northern Tanzania The two administrative divisions of Dongobesh and Basotu were selected They constituted the main catchment area of the Haydom Lutheran Hospital at the time of the study These two divisions had a total of wards comprising villages with distances from the Haydom hospital of up to kilometres The hospital had an extensive network of antenatal care clinics one at the hospital and outreach clinics The hospital was the only institution offering comprehensive obstetric care in the study area Based on the national census and an annual growth rate of nationally and for Arusha region for we extrapolated the population for Tanzania to be for Arusha region and for the study area to be Further the population of women of reproductive age in Arusha Region for was extrapolated to be and for the study area Finally with a crude birth rate of nationally and found in a household study in this study area the estimated number of live births for Tanzania was for Arusha Region and for the study area in The antenatal attendees among whom the control group was selected constituted approximately of the expected number of live births in the study area during this period   Subjects and methods We assessed risk factors for maternal death by a case control approach comparing cases from a study on maternal deaths in the catchment area of HLH with controls from an antenatal clinic study in the same geographical area ongoing at the same time A total of maternal deaths were identified The cases were identified in a comprehensive health facility and population based study on maternal mortality from all the villages and health facilities in Basotu and Dongobesh divisions in and Information on the women dying of maternal causes was obtained through verbal autopsies and health facility records with a medical doctor and a field assistant interviewing a relative of the deceased Information on demographic and pregnancy related variables in addition to a detailed obstetric history was recorded Maternal deaths were defined as deaths related to pregnancy and delivery up to days after termination of pregnancy Sixteen of the respondents were husbands were from the husband s family seven were from the woman s own family and one was a second wife The verbal autopsies were conducted in the period from until The recall period for the cases ranged from approximately three months to four years The reason for the long recall period in some cases was due to the difficulty in tracing families This area is remote and we returned several times in order to find as many as possible The causes of death among the cases are described in an earlier publication The diagnoses were set by a panel of four doctors using all available information Of total maternal deaths were direct obstetric deaths while were indirect Haemorrhage was the main cause of direct obstetric deaths Cerebral malaria accounted for of the total number of maternal deaths all of them labelled as indirect obstetric deaths Among the malaria cases were verified by blood slide while one was diagnosed as malaria being the most probable cause of death due to clinical information but not verified by blood slide The control group was selected in the following manner In parallel with the study on maternal deaths in the period February till March we also conducted a study on anaemia among antenatal attendees at four of the antenatal clinics run by Haydom Lutheran Hospital Participants in this study were from the same geographical area and were recruited among the same antenatal population as the study on maternal deaths In the anaemia study women were screened on haemoglobin levels and of these were selected as controls in the present study Since the original study was a screening on haemoglobin and in order to attain the same haemoglobin distribution as in the original population of women we used a method of proportional allocation to different categories of haemoglobin levels calculated in such a way as to ensure that the women could be regarded as a representative proportional sample of all women None of the women in the control group died within one year after delivery The women in the control group were interviewed and answered a questionnaire containing similar socio demographic and obstetric history questions as the relatives of the women who died from maternal causes Among those who had had two different pregnancies within the time of the study only information from the first was included in order to avoid bias Field assistants in the antenatal clinics interviewed the women in the control group collecting similar data as among the cases   Ethical considerations The National Committee for Research Ethics in Medicine in Norway and the Commission for Science and Technology in Tanzania approved the study The Regional Development Director the District Commissioners local ward division village and sub village leaders gave consent to the study and the local people were informed through village meetings Each respondent gave individual oral consent   Statistical analyses Data entry was done using the Epi Info version and programs The Statistical Package for Social Sciences version was used for analyses Odds ratios were used as an approximation of relative risk and were given with confidence intervals Odds ratios for maternal death presented in table were obtained for potential risk factors with multivariate logistic regression analyses and adjustment for age and place of residence Wards were grouped according to geographic location Haydom Dongobesh Tumati Bashay Basotu Basodesh Maghang Maretadu Laghanga Getanwas Hirbadaw Yaeda Chini  Table  Risk of maternal deaths by demographic and pregnancy related factors among women rural Tanzania       Variable     ANC attendeesa     Maternal deaths Cases b     ORc     Maternal deaths Cases d     ORc         Total e            Age          years        years        years              Ward groups f                                                                    Woman s ethnic affiliation          Iraqw        Datoga        Other              Husband s ethnic affiliation          Iraqw        Datoga        Other          Woman s religious affiliation          Christian        Traditional other            Husband s religious affiliation          Christian        Traditional other              Woman s education          years school        No school          Husband s education          years school        No school            Parity          Pregnancy        Pregnancy        Pregnancy          Previous abortions          No abortions        abortions          Previous stillbirths          No stillbirths        stillbirths          Previous perinatal deaths          No perinatal deaths        perinatal deaths          a Antenatal clinic attendees b Cases all maternal deaths found in the study c Adjusted for age and ward d Cases all maternal deaths of women who attended any antenatal clinic during last pregnancy e There were various numbers of missing cases and controls in the different groups f Wards grouped according to location Haydom Dongobesh Tumati Bashay Basotu Basodesh Maghang Maretadu Laghanga Getanwas Hirbadaw Yaeda Chini   Parity in this context includes all known abortions and pregnancies including the current pregnancy when interviewed as referred by relatives or women being interviewed Early abortions would in general not be recognised by family thus abortions would often be late ones rendering the variable as parity rather than gravidity All variables were entered as categorical In addition in the analysis all variables and among them potential confounders were adjusted for together and with separate adjustment for each Thirty one of the women who died had attended antenatal clinics while fourteen had not whereas the control group consisted of only antenatal clinic attendees Thus in order to assess a possible selection bias we performed parallel analyses on a sub set of the cases comprising the women who had attended antenatal clinics    Results  Demographic characteristics The mean age among the cases was years and among the controls years In multivariate logistic regression analysis with adjustment for ward there was a significantly increased risk of maternal death in the age group years compared to the group of years This increased risk persisted after adjustment for the variables mentioned above and when we restricted analyses to the sub group who had attended antenatal clinics In order to assess whether the age groups of the controls were representative we compared the age distribution in the control group with that among all the antenatal attendees at the same four clinics and also with women of reproductive age in the general population The distribution of age was similar for all age groups except for a slight over representation in the year group and a slight under representation in the two other age groups  Table  Age distribution among pregnant women and women of reproductive age in study area       Group represented     years     years     years  a                        Cases      Control group      Four antenatal clinics in study b      Estimated number of women giving live births c        aThe census categorised women from years and numbers for the age group were not given Therefore in the census group the age span denoted years includes only women aged In the group of randomly chosen ANC controls no woman was in the age group from years b Four antenatal clinics were chosen for a study of anaemia The control group in the present study was randomly selected from this group One woman was years old but included in the age group of years women were in the age group of years c Based on the Census and a household survey the number of estimated live births were found by multiplying the women of reproductive age in each group by the age specific fertility rate   By categorising wards according to geographic location we found that residents of some wards had a significantly increased risk of maternal death The wide confidence intervals indicate that the risk is merely an approximation and is due to small numbers This persisted when adjusting to all variables together and separately which were included in the analyses Hence we adjusted for ward in all the analyses Among the cases were Iraqw Datoga and came from various other ethnic groups not indigenous to the study area For the controls there were Iraqw Datoga and from other groups There was a significantly increased risk of maternal death among the women not belonging to the Iraqw or Datoga ethnic groups which prevailed after adjustment for selected variables and when the analysis was restricted to the sub group of cases who had attended antenatal clinics There was a significantly increased risk of maternal death among the women who were affiliated with the traditional indigenous beliefs Traditional indigenous beliefs were defined as those being part of the ethnic culture from before the exposure to any of the foreign major world religions such as Islam Christianity Hinduism Judaism and others There were no Islamic men and only three Islamic women two among the cases and one among the controls When restricting analyses to those cases attending antenatal clinics and adjusting for the other selected variables a similar point estimate was observed but not statistically significant Husbands had a traditional religious affiliation in of the maternal death cases against of the controls The difference was significant When adjusting for selected potential confounders both together and separately the significantly increased risk persisted Thirty nine per cent of the cases and of the controls had no formal education The woman s educational level was not significantly associated with increased risk of maternal death whereas a significantly increased risk was observed with husband s education When adjusting all other variables showing significant associations in table the risk was still increased but no longer statistically significant Virtually all cases and controls were married Marital status and the husbands ethnic affiliation were not associated with an increased risk of maternal death   Pregnancy related characteristics The median number of pregnancies was four for cases and three for controls The point estimate for primiparas showed an increased risk of maternal death but not statistically significant There was no increased risk of death for multiparous women There was no significantly increased risk of maternal death in analyses of previous abortions stillbirths or perinatal deaths    Discussion We found an increased risk of maternal death among women over years of age and among couples with a traditional religious affiliation Further the risk was increased among women coming from ethnic groups other than the ones indigenous to the area and among women whose husbands lacked formal education The strength of the study is the comprehensive health facility and population based information on maternal deaths Since maternal deaths are relatively rare events the sample size was small and weaker risk factors may not have been detected  Methodological considerations This study was not originally designed as a case control study We decided to use the available data in order to assess risk factors for maternal deaths since the two studies from where the data originated were ongoing in the same population at the same time Further both projects used the same set of questions related to socio demographic characteristics and had the same principal investigators Age antenatal clinic attendance and place of residence could represent potential sources of selection bias and confounding In relation to place of residence the cases were traced through the whole study area while the controls were self reporting at the four selected antenatal clinics in the study area with those living closest probably most likely to attend The controls represented of possible wards and we minimised this potential selection bias by adjusting for ward Further in relation to antenatal clinic attendance we attempted to reduce the selection bias by analysing the sub set of cases that had attended antenatal clinics In general the associations found in the total series were upheld in these sub set analyses In relation to age table shows that the women of the younger age group were slightly over represented while the two other age groups were slightly under represented thereby possibly creating selection bias By adjusting for age we attempted to minimise the effect of this bias Many of the women did not know their date of birth Thus the age recorded was approximate for many of them Lastly the result may be influenced by recall bias Among the cases in our study the respondents were relatives of the deceased women whereas the controls responded personally This may have led to an information bias by misclassification among cases For some variables the events were more noticeable thus being hard data that were easy to recall Some events may have gone unnoticed by others than the women themselves As an example the controls would most likely recall whether they had aborted or not whereas the families of the deceased women may not have remembered or known about abortions Such under reporting of abortions among cases might have led to what might appear as a protective effect   Age and parity Women in the age group of years had a significantly increased risk of maternal death An under representation of older women in the control group may have contributed to a slight over estimation of the risk in this group but the effect of age remained in the analysis when we included only those who had attended antenatal clinics in the case group The older women appeared to have an increased risk independent of parity This may not necessarily be explained by obstetric factors alone but may also be due to other factors There could be a decrease of the general state of health among older women or less active health seeking behaviour rendering them more at risk This seems reasonable when we look at the causes of death among the cases Of seven women struck by maternal death in the older age group six died of malaria while one died of other indirect obstetric causes All had five or more pregnancies In addition younger women might have had husbands of higher educational level or with less reluctance to using modern health facilities Loudon investigated the relationship between age and parity and showed that for all ages there was a higher risk of maternal death in first births than in second or third From the fourth birth onwards increasing parity led to higher maternal mortality regardless of maternal age Likewise for all parities maternal mortality increased with age but the effect was strongest on first births and fourth and higher order births With regard to age in settings similar to the current study some authors have found significant associations between increasing age and risk of maternal deaths in rural districts while Urassa et al in a study from the city of Dar es Salaam and a sentinel surveillance study from both rural and urban districts in Tanzania did not Further several studies found increased risk of maternal death with increasing parity Others observed that primiparas and women with parities of higher order were at increased risk of maternal death Our data are compatible with increased risk for primiparas although it is not statistically significant   Ethnic and religious affiliation We observed an increased risk in women from ethnic groups other than those indigenous to the area In general there were few women from other ethnic groups residing in the study area at the time of the study and the small sample sized resulted in wide confidence intervals Only women who were residents of the study area were included in the study Many factors may affect and explain the results related to ethnicity such as discriminatory practices and injustices in society cultural rituals connected to pregnancy and birth lack of social network and poverty The Iraqw and Datoga have distinctly differing practices on reproductive issues and both differ significantly from the Bantus in the study area Most of the study area population were small scale subsistence farmers or pastoralists There was no industrial activity in the area There are several potential explanations of the apparently increased risk of women and husbands who adhered to religions other than Christianity Perhaps they all relate to culture which again may be influenced by both religion economy ethnicity and geographical location In this society people of all religions lived closely integrated with intermarriage being common If the husband had a traditional belief and the woman was a Christian the husband would still probably be the decision maker making him the most influential as to health decisions The hospital health centre and dispensaries in the study area were all part of the National Health plan and thus catered to all groups regardless of belief From our knowledge of the area there was an extensive use of traditional medicine by all religious groups Distance to a hospital may in itself be a risk factor thus being a possible confounder to religion When adjusting for ward we found that the risk persisted In the wards with the highest risks there were dispensaries and a health centre These did not offer comprehensive obstetric care Women with a Catholic affiliation were found to have a significantly increased risk of maternal death in an urban area in Zimbabwe while a similar study from Dar es Salaam did not identify religion as a risk factor Thus we can give no clear explanation for the findings on religion and it may all perhaps be related to aspects of culture   Education The husbands lack of formal education appeared to be a risk factor A study in India found a significant association between a low level of husbands education and the risk of maternal death Similarly in Nepal if the husband had a level of education greater than fifth grade it significantly reduced the high risk practices in all stages of childbirth independent of other socio economic biological and village variables In a study from Kenya in households headed by males although the women were significantly less likely to deliver at health facilities the educational level of the household head was not significantly associated with place of delivery It is important to consider the role and power of the decision makers in societies where the risk of maternal deaths is high A study from Dar es Salaam observed that when complications arose the mother of the woman decided where to seek help in of the cases while the husband decided in of the cases Only in of the cases did the deceased women make their own decision The importance of the husbands level of knowledge may perhaps be linked to the fact that in many societies in developing countries husbands are the decision makers We know that some women in the present study dared not go to the hospital or other health facility without their husband s explicit permission When husbands were not at home at the time of delivery this could have serious adverse effects In our study the women s education did not seem to be associated with an increased risk of maternal death Previous studies have shown conflicting results where some found similar results to ours while others found that maternal education does exert an effect Our study may have had too few participants to detect a real association A great effort has been made to educate women about health matters through the antenatal clinics in many countries In Tanzania antenatal attendance was at the time of the study and lectures on health related matters are among the activities at the clinics It is important that the women have separate settings where they can feel free to ask questions However there may be a case for educating males as well as women in order to influence decisions related to health Although we measured the risk of maternal death in relation to formal school education we advise health workers to hold educational sessions on health related issues delivery and complication preparedness since every pregnancy is potentially at risk of complications Teaching by males for males is important at places where men gather such as village meetings bars and local clubs in addition to an increased focus on making primary school education available to even more children both females and males   Obstetric history We did not observe significantly increased odds ratios for maternal death among women who had previously experienced stillbirths and perinatal deaths Loss of children either as abortions stillbirths or neonatal loss has been shown in other studies to represent an increased risk of maternal death The power of our study may have been too low to detect effects of low magnitude On the other hand the recall bias mentioned in relation to obstetric factors in general and abortions in particular would probably not have had a major effect on these two variables    Conclusion Lack of formal education of husbands was associated with an increased risk of maternal death This may reflect the role of the decision makers in a household leading to different health seeking behaviour among those women whose husbands had a higher education Further maternal death was associated with increased maternal age and to religious and ethnic affiliation We want to emphasise the importance of improved access for delivering women to comprehensive obstetric care and investing in increased health education of men especially in relation to pregnancy and delivery in addition to the education of women Further investing in research on the role of males in relation to health related issues may be valuable for understanding risk factors associated with maternal deaths in developing countries   Competing interests The author declare that they have no competing interests   Authors contributions BEO and SGH designed the study were the principal investigators and did the data collection Further they supervised the data entry and analysed all the data BEO drafted the manuscript In addition to above mentioned activities SGH commented on all drafts of the manuscript RTL supervised the statistical analysis and commented on all drafts PB supervised the data collection during the field work and commented on all analyses and drafts of the manuscript PG was a co investigator during the field work and data collection and had responsibility for all the data entry in addition to commenting on the drafts of the manuscript GK was the main supervisor of the project supervising both the design of the study the field work the analyses and the writing process All authors read and approved the final manuscript   Pre publication history The pre publication history for this paper can be accessed here    \\n'"
       ]
      }
     ],
     "prompt_number": 10
    },
    {
     "cell_type": "code",
     "collapsed": false,
     "input": [
      "#load tfidf representation of data\n",
      "lda = models.tfidfmodel.TfidfModel.load('../corpus/mediumData.lda_model')"
     ],
     "language": "python",
     "metadata": {},
     "outputs": [
      {
       "output_type": "stream",
       "stream": "stderr",
       "text": [
        "2014-05-09 11:13:59,448 : INFO : loading TfidfModel object from ../corpus/mediumData.lda_model\n"
       ]
      },
      {
       "output_type": "stream",
       "stream": "stderr",
       "text": [
        "2014-05-09 11:13:59,895 : INFO : setting ignored attribute state to None\n"
       ]
      },
      {
       "output_type": "stream",
       "stream": "stderr",
       "text": [
        "2014-05-09 11:13:59,896 : INFO : setting ignored attribute dispatcher to None\n"
       ]
      }
     ],
     "prompt_number": 2
    },
    {
     "cell_type": "code",
     "collapsed": false,
     "input": [
      "#load corpus and dictionary\n",
      "mm = corpora.MmCorpus('../corpus/mediumData.mm')\n",
      "dictionary = corpora.Dictionary.load('../corpus/mediumData.dict')"
     ],
     "language": "python",
     "metadata": {},
     "outputs": [
      {
       "output_type": "stream",
       "stream": "stderr",
       "text": [
        "2014-05-09 11:14:04,634 : INFO : loaded corpus index from ../corpus/mediumData.mm.index\n"
       ]
      },
      {
       "output_type": "stream",
       "stream": "stderr",
       "text": [
        "2014-05-09 11:14:04,635 : INFO : initializing corpus reader from ../corpus/mediumData.mm\n"
       ]
      },
      {
       "output_type": "stream",
       "stream": "stderr",
       "text": [
        "2014-05-09 11:14:04,653 : INFO : accepted corpus with 1002 documents, 57681 features, 707258 non-zero entries\n"
       ]
      },
      {
       "output_type": "stream",
       "stream": "stderr",
       "text": [
        "2014-05-09 11:14:04,654 : INFO : loading Dictionary object from ../corpus/mediumData.dict\n"
       ]
      }
     ],
     "prompt_number": 4
    },
    {
     "cell_type": "code",
     "collapsed": false,
     "input": [
      "#load tfidf model\n",
      "tfidf = models.TfidfModel.load('../corpus/mediumData.tfidf_model')\n",
      "corpusTfidf = tfidf[[doc for doc in mm]]"
     ],
     "language": "python",
     "metadata": {},
     "outputs": [
      {
       "output_type": "stream",
       "stream": "stderr",
       "text": [
        "2014-05-09 11:14:14,226 : INFO : loading TfidfModel object from ../corpus/mediumData.tfidf_model\n"
       ]
      }
     ],
     "prompt_number": 6
    },
    {
     "cell_type": "code",
     "collapsed": false,
     "input": [
      "#create lda vectors for each document\n",
      "ldaVectors = [lda[doc] for doc in corpusTfidf]"
     ],
     "language": "python",
     "metadata": {},
     "outputs": [],
     "prompt_number": 11
    },
    {
     "cell_type": "code",
     "collapsed": false,
     "input": [
      "corpusTfidf.corpus"
     ],
     "language": "python",
     "metadata": {},
     "outputs": [],
     "prompt_number": "*"
    },
    {
     "cell_type": "code",
     "collapsed": false,
     "input": [
      "lda.log_perplexity([doc for doc in corpusTfidf])"
     ],
     "language": "python",
     "metadata": {},
     "outputs": [
      {
       "ename": "AttributeError",
       "evalue": "'NoneType' object has no attribute 'get_lambda'",
       "output_type": "pyerr",
       "traceback": [
        "\u001b[0;31m---------------------------------------------------------------------------\u001b[0m\n\u001b[0;31mAttributeError\u001b[0m                            Traceback (most recent call last)",
        "\u001b[0;32m<ipython-input-17-e0466052423a>\u001b[0m in \u001b[0;36m<module>\u001b[0;34m()\u001b[0m\n\u001b[0;32m----> 1\u001b[0;31m \u001b[0mlda\u001b[0m\u001b[0;34m.\u001b[0m\u001b[0mlog_perplexity\u001b[0m\u001b[0;34m(\u001b[0m\u001b[0;34m[\u001b[0m\u001b[0mdoc\u001b[0m \u001b[0;32mfor\u001b[0m \u001b[0mdoc\u001b[0m \u001b[0;32min\u001b[0m \u001b[0mcorpusTfidf\u001b[0m\u001b[0;34m]\u001b[0m\u001b[0;34m)\u001b[0m\u001b[0;34m\u001b[0m\u001b[0m\n\u001b[0m",
        "\u001b[0;32m/Users/Niels/anaconda/lib/python2.7/site-packages/gensim/models/ldamodel.pyc\u001b[0m in \u001b[0;36mlog_perplexity\u001b[0;34m(self, chunk, total_docs)\u001b[0m\n\u001b[1;32m    452\u001b[0m         \u001b[0mcorpus_words\u001b[0m \u001b[0;34m=\u001b[0m \u001b[0msum\u001b[0m\u001b[0;34m(\u001b[0m\u001b[0mcnt\u001b[0m \u001b[0;32mfor\u001b[0m \u001b[0mdocument\u001b[0m \u001b[0;32min\u001b[0m \u001b[0mchunk\u001b[0m \u001b[0;32mfor\u001b[0m \u001b[0m_\u001b[0m\u001b[0;34m,\u001b[0m \u001b[0mcnt\u001b[0m \u001b[0;32min\u001b[0m \u001b[0mdocument\u001b[0m\u001b[0;34m)\u001b[0m\u001b[0;34m\u001b[0m\u001b[0m\n\u001b[1;32m    453\u001b[0m         \u001b[0msubsample_ratio\u001b[0m \u001b[0;34m=\u001b[0m \u001b[0;36m1.0\u001b[0m \u001b[0;34m*\u001b[0m \u001b[0mtotal_docs\u001b[0m \u001b[0;34m/\u001b[0m \u001b[0mlen\u001b[0m\u001b[0;34m(\u001b[0m\u001b[0mchunk\u001b[0m\u001b[0;34m)\u001b[0m\u001b[0;34m\u001b[0m\u001b[0m\n\u001b[0;32m--> 454\u001b[0;31m         \u001b[0mperwordbound\u001b[0m \u001b[0;34m=\u001b[0m \u001b[0mself\u001b[0m\u001b[0;34m.\u001b[0m\u001b[0mbound\u001b[0m\u001b[0;34m(\u001b[0m\u001b[0mchunk\u001b[0m\u001b[0;34m,\u001b[0m \u001b[0msubsample_ratio\u001b[0m\u001b[0;34m=\u001b[0m\u001b[0msubsample_ratio\u001b[0m\u001b[0;34m)\u001b[0m \u001b[0;34m/\u001b[0m \u001b[0;34m(\u001b[0m\u001b[0msubsample_ratio\u001b[0m \u001b[0;34m*\u001b[0m \u001b[0mcorpus_words\u001b[0m\u001b[0;34m)\u001b[0m\u001b[0;34m\u001b[0m\u001b[0m\n\u001b[0m\u001b[1;32m    455\u001b[0m         logger.info(\"%.3f per-word bound, %.1f perplexity estimate based on a held-out corpus of %i documents with %i words\" %\n\u001b[1;32m    456\u001b[0m             (perwordbound, numpy.exp2(-perwordbound), len(chunk), corpus_words))\n",
        "\u001b[0;32m/Users/Niels/anaconda/lib/python2.7/site-packages/gensim/models/ldamodel.pyc\u001b[0m in \u001b[0;36mbound\u001b[0;34m(self, corpus, gamma, subsample_ratio)\u001b[0m\n\u001b[1;32m    621\u001b[0m         \"\"\"\n\u001b[1;32m    622\u001b[0m         \u001b[0mscore\u001b[0m \u001b[0;34m=\u001b[0m \u001b[0;36m0.0\u001b[0m\u001b[0;34m\u001b[0m\u001b[0m\n\u001b[0;32m--> 623\u001b[0;31m         \u001b[0m_lambda\u001b[0m \u001b[0;34m=\u001b[0m \u001b[0mself\u001b[0m\u001b[0;34m.\u001b[0m\u001b[0mstate\u001b[0m\u001b[0;34m.\u001b[0m\u001b[0mget_lambda\u001b[0m\u001b[0;34m(\u001b[0m\u001b[0;34m)\u001b[0m\u001b[0;34m\u001b[0m\u001b[0m\n\u001b[0m\u001b[1;32m    624\u001b[0m         \u001b[0mElogbeta\u001b[0m \u001b[0;34m=\u001b[0m \u001b[0mdirichlet_expectation\u001b[0m\u001b[0;34m(\u001b[0m\u001b[0m_lambda\u001b[0m\u001b[0;34m)\u001b[0m\u001b[0;34m\u001b[0m\u001b[0m\n\u001b[1;32m    625\u001b[0m \u001b[0;34m\u001b[0m\u001b[0m\n",
        "\u001b[0;31mAttributeError\u001b[0m: 'NoneType' object has no attribute 'get_lambda'"
       ]
      }
     ],
     "prompt_number": 17
    }
   ],
   "metadata": {}
  }
 ]
}