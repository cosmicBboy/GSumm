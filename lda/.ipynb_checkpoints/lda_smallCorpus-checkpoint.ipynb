{
 "metadata": {
  "name": ""
 },
 "nbformat": 3,
 "nbformat_minor": 0,
 "worksheets": [
  {
   "cells": [
    {
     "cell_type": "code",
     "collapsed": false,
     "input": [
      "import logging, gensim, bz2\n",
      "logging.basicConfig(format='%(asctime)s : %(levelname)s : %(message)s', level=logging.INFO)"
     ],
     "language": "python",
     "metadata": {},
     "outputs": [],
     "prompt_number": 1
    },
    {
     "cell_type": "code",
     "collapsed": false,
     "input": [
      "#define a class MyCorpus that iterates through corpus.txt file\n",
      "#for more memory efficient way of grabbing documents from corpus\n",
      "class MyCorpus(object):\n",
      "    def __init__(self, filePath):\n",
      "        self.filePath = filePath\n",
      "    \n",
      "    def __iter__(self):\n",
      "        for line in open(self.filePath, 'r'):\n",
      "            yield dictionary.doc2bow(line.lower().split())"
     ],
     "language": "python",
     "metadata": {},
     "outputs": [],
     "prompt_number": 2
    },
    {
     "cell_type": "code",
     "collapsed": false,
     "input": [
      "#to construct the dictionary without loading all text into memory\n",
      "from nltk.corpus import stopwords\n",
      "import re\n",
      "\n",
      "with open('../smallData/seedCorpus.txt') as corpusText:\n",
      "    text = []\n",
      "    for line in corpusText.readlines():\n",
      "        removePunct = re.sub(r'\\[.*?\\]|\\(.*?\\)|\\W', ' ', line)\n",
      "        removeNum = re.sub(r'[0-9]', ' ', removePunct)\n",
      "        cleanSpace = re.sub(r'\\s+', ' ', removeNum)\n",
      "        text.append(cleanSpace)\n",
      "\n",
      "dictionary = gensim.corpora.Dictionary(line.lower().split() for line in text)\n",
      "stop_ids = [dictionary.token2id[stopword] for stopword in stopwords.words()\n",
      "            if stopword in dictionary.token2id]\n",
      "once_ids = [tokenid for tokenid, docfreq in dictionary.dfs.iteritems() if docfreq == 1]\n",
      "dictionary.filter_tokens(stop_ids + once_ids)\n",
      "dictionary.compactify()\n",
      "print(dictionary)"
     ],
     "language": "python",
     "metadata": {},
     "outputs": [
      {
       "output_type": "stream",
       "stream": "stderr",
       "text": [
        "2014-05-05 09:39:09,525 : INFO : adding document #0 to Dictionary(0 unique tokens: [])\n"
       ]
      },
      {
       "output_type": "stream",
       "stream": "stderr",
       "text": [
        "2014-05-05 09:39:10,008 : INFO : built Dictionary(5955 unique tokens: ['four', 'localized', 'increase', 'eligible', 'electricity']...) from 25 documents (total 81880 corpus positions)\n"
       ]
      },
      {
       "output_type": "stream",
       "stream": "stdout",
       "text": [
        "Dictionary(2677 unique tokens: ['secondly', 'limited', 'personally', 'desirable', 'four']...)\n"
       ]
      }
     ],
     "prompt_number": 4
    },
    {
     "cell_type": "code",
     "collapsed": false,
     "input": [
      "#corpus = [dictionary.doc2bow(t.split()) for t in text]\n",
      "#gensim.corpora.MmCorpus.serialize('../smallData/seedData.mm', corpus)"
     ],
     "language": "python",
     "metadata": {},
     "outputs": [],
     "prompt_number": 5
    },
    {
     "cell_type": "code",
     "collapsed": false,
     "input": [
      "mm = gensim.corpora.MmCorpus('../smallData/seedData.mm')\n",
      "print mm"
     ],
     "language": "python",
     "metadata": {},
     "outputs": [
      {
       "output_type": "stream",
       "stream": "stderr",
       "text": [
        "2014-05-05 09:39:12,030 : INFO : loaded corpus index from ../smallData/seedData.mm.index\n"
       ]
      },
      {
       "output_type": "stream",
       "stream": "stderr",
       "text": [
        "2014-05-05 09:39:12,031 : INFO : initializing corpus reader from ../smallData/seedData.mm\n"
       ]
      },
      {
       "output_type": "stream",
       "stream": "stderr",
       "text": [
        "2014-05-05 09:39:12,032 : INFO : accepted corpus with 25 documents, 2677 features, 12613 non-zero entries\n"
       ]
      },
      {
       "output_type": "stream",
       "stream": "stdout",
       "text": [
        "MmCorpus(25 documents, 2677 features, 12613 non-zero entries)\n"
       ]
      }
     ],
     "prompt_number": 6
    },
    {
     "cell_type": "code",
     "collapsed": false,
     "input": [
      "tfidf = gensim.models.TfidfModel([doc for doc in mm])\n",
      "#tfidf.save('../smallData/seedData.tfidf_model')\n",
      "corpusTfidf = tfidf[[doc for doc in mm]]"
     ],
     "language": "python",
     "metadata": {},
     "outputs": [
      {
       "output_type": "stream",
       "stream": "stderr",
       "text": [
        "2014-05-05 09:39:13,109 : INFO : collecting document frequencies\n"
       ]
      },
      {
       "output_type": "stream",
       "stream": "stderr",
       "text": [
        "2014-05-05 09:39:13,110 : INFO : PROGRESS: processing document #0\n"
       ]
      },
      {
       "output_type": "stream",
       "stream": "stderr",
       "text": [
        "2014-05-05 09:39:13,118 : INFO : calculating IDF weights for 25 documents and 2676 features (12613 matrix non-zeros)\n"
       ]
      }
     ],
     "prompt_number": 7
    },
    {
     "cell_type": "code",
     "collapsed": false,
     "input": [
      "#extract n LDA topics, using 1 pass and updating once every 1 chunk\n",
      "lda = gensim.models.ldamodel.LdaModel(corpus=corpusTfidf, id2word=dictionary, num_topics=10, \n",
      "                                      update_every=1, chunksize=10000, passes=10)\n",
      "\n",
      "ldaVectors = [lda[doc] for doc in corpusTfidf]"
     ],
     "language": "python",
     "metadata": {},
     "outputs": [
      {
       "output_type": "stream",
       "stream": "stderr",
       "text": [
        "2014-05-05 10:26:29,986 : INFO : using symmetric alpha at 0.1\n"
       ]
      },
      {
       "output_type": "stream",
       "stream": "stderr",
       "text": [
        "2014-05-05 10:26:29,987 : INFO : using serial LDA version on this node\n"
       ]
      },
      {
       "output_type": "stream",
       "stream": "stderr",
       "text": [
        "2014-05-05 10:26:29,994 : INFO : running online LDA training, 10 topics, 10 passes over the supplied corpus of 25 documents, updating model once every 25 documents, evaluating perplexity every 25 documents, iterating 50 with a convergence threshold of 0\n"
       ]
      },
      {
       "output_type": "stream",
       "stream": "stderr",
       "text": [
        "2014-05-05 10:26:30,733 : INFO : -117.691 per-word bound, 268253577449691457277225547805491200.0 perplexity estimate based on a held-out corpus of 25 documents with 274 words\n"
       ]
      },
      {
       "output_type": "stream",
       "stream": "stderr",
       "text": [
        "2014-05-05 10:26:30,734 : INFO : PROGRESS: pass 0, at document #25/25\n"
       ]
      },
      {
       "output_type": "stream",
       "stream": "stderr",
       "text": [
        "2014-05-05 10:26:30,856 : INFO : 20/25 documents converged within 50 iterations\n"
       ]
      },
      {
       "output_type": "stream",
       "stream": "stderr",
       "text": [
        "2014-05-05 10:26:30,862 : INFO : topic #0 (0.100): 0.002*refusal + 0.001*informant + 0.001*scores + 0.001*interview + 0.001*participation + 0.001*depression + 0.001*distress + 0.001*anxiety + 0.001*elderly + 0.001*longitudinal\n"
       ]
      },
      {
       "output_type": "stream",
       "stream": "stderr",
       "text": [
        "2014-05-05 10:26:30,863 : INFO : topic #1 (0.100): 0.003*weight + 0.002*name + 0.001*acquisition + 0.001*rooms + 0.001*discrepancy + 0.001*females + 0.001*weights + 0.001*clinic + 0.001*reporting + 0.001*males\n"
       ]
      },
      {
       "output_type": "stream",
       "stream": "stderr",
       "text": [
        "2014-05-05 10:26:30,865 : INFO : topic #2 (0.100): 0.002*elimination + 0.002*deaths + 0.002*death + 0.002*parasite + 0.002*causes + 0.001*verbal + 0.001*cause + 0.001*coverage + 0.001*adult + 0.001*cancer\n"
       ]
      },
      {
       "output_type": "stream",
       "stream": "stderr",
       "text": [
        "2014-05-05 10:26:30,866 : INFO : topic #3 (0.100): 0.002*liver + 0.002*workers + 0.002*sector + 0.002*water + 0.002*bacteria + 0.002*employed + 0.002*ml + 0.002*adverse + 0.001*coli + 0.001*unemployment\n"
       ]
      },
      {
       "output_type": "stream",
       "stream": "stderr",
       "text": [
        "2014-05-05 10:26:30,867 : INFO : topic #4 (0.100): 0.002*antibiotic + 0.002*policy + 0.001*encounters + 0.001*respiratory + 0.001*scores + 0.001*socio + 0.001*score + 0.001*trust + 0.001*episodes + 0.001*codes\n"
       ]
      },
      {
       "output_type": "stream",
       "stream": "stderr",
       "text": [
        "2014-05-05 10:26:30,868 : INFO : topic #5 (0.100): 0.002*water + 0.002*breast + 0.002*functional + 0.002*syndrome + 0.002*women + 0.002*maternal + 0.002*partner + 0.002*pain + 0.002*bowel + 0.001*cancer\n"
       ]
      },
      {
       "output_type": "stream",
       "stream": "stderr",
       "text": [
        "2014-05-05 10:26:30,869 : INFO : topic #6 (0.100): 0.002*vaccination + 0.001*reform + 0.001*surveillance + 0.001*action + 0.001*vaccine + 0.001*controls + 0.001*date + 0.001*children + 0.001*onset + 0.001*letters\n"
       ]
      },
      {
       "output_type": "stream",
       "stream": "stderr",
       "text": [
        "2014-05-05 10:26:30,870 : INFO : topic #7 (0.100): 0.001*practitioners + 0.001*public + 0.001*focus + 0.001*scientific + 0.001*research + 0.001*interviews + 0.001*meetings + 0.001*action + 0.001*information + 0.001*cases\n"
       ]
      },
      {
       "output_type": "stream",
       "stream": "stderr",
       "text": [
        "2014-05-05 10:26:30,871 : INFO : topic #8 (0.100): 0.004*stroke + 0.002*hypertension + 0.002*sexes + 0.001*obesity + 0.001*women + 0.001*smoking + 0.001*diabetes + 0.001*cholesterol + 0.001*water + 0.001*prevalence\n"
       ]
      },
      {
       "output_type": "stream",
       "stream": "stderr",
       "text": [
        "2014-05-05 10:26:30,872 : INFO : topic #9 (0.100): 0.002*anti + 0.002*prescriptions + 0.002*skin + 0.002*black + 0.002*prevalence + 0.002*meningococcal + 0.002*contacts + 0.002*race + 0.002*hospitalized + 0.002*agreement\n"
       ]
      },
      {
       "output_type": "stream",
       "stream": "stderr",
       "text": [
        "2014-05-05 10:26:30,873 : INFO : topic diff=7.007969, rho=1.000000\n"
       ]
      },
      {
       "output_type": "stream",
       "stream": "stderr",
       "text": [
        "2014-05-05 10:26:31,586 : INFO : -14.172 per-word bound, 18456.5 perplexity estimate based on a held-out corpus of 25 documents with 274 words\n"
       ]
      },
      {
       "output_type": "stream",
       "stream": "stderr",
       "text": [
        "2014-05-05 10:26:31,587 : INFO : PROGRESS: pass 1, at document #25/25\n"
       ]
      },
      {
       "output_type": "stream",
       "stream": "stderr",
       "text": [
        "2014-05-05 10:26:31,686 : INFO : 24/25 documents converged within 50 iterations\n"
       ]
      },
      {
       "output_type": "stream",
       "stream": "stderr",
       "text": [
        "2014-05-05 10:26:31,694 : INFO : topic #0 (0.100): 0.002*refusal + 0.001*informant + 0.001*scores + 0.001*interview + 0.001*participation + 0.001*depression + 0.001*distress + 0.001*anxiety + 0.001*elderly + 0.001*longitudinal\n"
       ]
      },
      {
       "output_type": "stream",
       "stream": "stderr",
       "text": [
        "2014-05-05 10:26:31,695 : INFO : topic #1 (0.100): 0.003*weight + 0.002*name + 0.001*acquisition + 0.001*rooms + 0.001*discrepancy + 0.001*reporting + 0.001*females + 0.001*weights + 0.001*diseases + 0.001*epidemiologists\n"
       ]
      },
      {
       "output_type": "stream",
       "stream": "stderr",
       "text": [
        "2014-05-05 10:26:31,696 : INFO : topic #2 (0.100): 0.002*elimination + 0.002*deaths + 0.002*death + 0.002*parasite + 0.002*causes + 0.001*verbal + 0.001*cause + 0.001*coverage + 0.001*adult + 0.001*cancer\n"
       ]
      },
      {
       "output_type": "stream",
       "stream": "stderr",
       "text": [
        "2014-05-05 10:26:31,698 : INFO : topic #3 (0.100): 0.002*liver + 0.002*workers + 0.002*sector + 0.002*water + 0.002*bacteria + 0.002*adverse + 0.002*employed + 0.002*ml + 0.001*coli + 0.001*unemployment\n"
       ]
      },
      {
       "output_type": "stream",
       "stream": "stderr",
       "text": [
        "2014-05-05 10:26:31,699 : INFO : topic #4 (0.100): 0.002*antibiotic + 0.002*policy + 0.001*encounters + 0.001*scores + 0.001*respiratory + 0.001*socio + 0.001*score + 0.001*trust + 0.001*enumeration + 0.001*episodes\n"
       ]
      },
      {
       "output_type": "stream",
       "stream": "stderr",
       "text": [
        "2014-05-05 10:26:31,700 : INFO : topic #5 (0.100): 0.003*water + 0.002*breast + 0.002*functional + 0.002*syndrome + 0.002*women + 0.002*maternal + 0.002*partner + 0.002*pain + 0.002*bowel + 0.002*cancer\n"
       ]
      },
      {
       "output_type": "stream",
       "stream": "stderr",
       "text": [
        "2014-05-05 10:26:31,702 : INFO : topic #6 (0.100): 0.002*vaccination + 0.002*action + 0.002*reform + 0.002*surveillance + 0.001*vaccine + 0.001*public + 0.001*controls + 0.001*children + 0.001*date + 0.001*activities\n"
       ]
      },
      {
       "output_type": "stream",
       "stream": "stderr",
       "text": [
        "2014-05-05 10:26:31,703 : INFO : topic #7 (0.100): 0.001*practitioners + 0.001*public + 0.001*focus + 0.001*scientific + 0.001*research + 0.001*interviews + 0.001*information + 0.001*meetings + 0.001*cases + 0.001*observation\n"
       ]
      },
      {
       "output_type": "stream",
       "stream": "stderr",
       "text": [
        "2014-05-05 10:26:31,704 : INFO : topic #8 (0.100): 0.004*stroke + 0.002*hypertension + 0.002*sexes + 0.001*obesity + 0.001*women + 0.001*smoking + 0.001*prevalence + 0.001*diabetes + 0.001*cholesterol + 0.001*respondents\n"
       ]
      },
      {
       "output_type": "stream",
       "stream": "stderr",
       "text": [
        "2014-05-05 10:26:31,706 : INFO : topic #9 (0.100): 0.002*anti + 0.002*prescriptions + 0.002*skin + 0.002*black + 0.002*prevalence + 0.002*meningococcal + 0.002*contacts + 0.002*race + 0.002*hospitalized + 0.002*agreement\n"
       ]
      },
      {
       "output_type": "stream",
       "stream": "stderr",
       "text": [
        "2014-05-05 10:26:31,707 : INFO : topic diff=0.045122, rho=0.707107\n"
       ]
      },
      {
       "output_type": "stream",
       "stream": "stderr",
       "text": [
        "2014-05-05 10:26:32,492 : INFO : -14.135 per-word bound, 17986.1 perplexity estimate based on a held-out corpus of 25 documents with 274 words\n"
       ]
      },
      {
       "output_type": "stream",
       "stream": "stderr",
       "text": [
        "2014-05-05 10:26:32,492 : INFO : PROGRESS: pass 2, at document #25/25\n"
       ]
      },
      {
       "output_type": "stream",
       "stream": "stderr",
       "text": [
        "2014-05-05 10:26:32,586 : INFO : 25/25 documents converged within 50 iterations\n"
       ]
      },
      {
       "output_type": "stream",
       "stream": "stderr",
       "text": [
        "2014-05-05 10:26:32,593 : INFO : topic #0 (0.100): 0.002*refusal + 0.001*informant + 0.001*scores + 0.001*interview + 0.001*participation + 0.001*depression + 0.001*distress + 0.001*anxiety + 0.001*elderly + 0.001*longitudinal\n"
       ]
      },
      {
       "output_type": "stream",
       "stream": "stderr",
       "text": [
        "2014-05-05 10:26:32,595 : INFO : topic #1 (0.100): 0.003*weight + 0.002*name + 0.001*acquisition + 0.001*rooms + 0.001*reporting + 0.001*discrepancy + 0.001*females + 0.001*diseases + 0.001*epidemiologists + 0.001*weights\n"
       ]
      },
      {
       "output_type": "stream",
       "stream": "stderr",
       "text": [
        "2014-05-05 10:26:32,596 : INFO : topic #2 (0.100): 0.002*elimination + 0.002*deaths + 0.002*death + 0.002*parasite + 0.002*causes + 0.001*verbal + 0.001*cause + 0.001*coverage + 0.001*adult + 0.001*cancer\n"
       ]
      },
      {
       "output_type": "stream",
       "stream": "stderr",
       "text": [
        "2014-05-05 10:26:32,597 : INFO : topic #3 (0.100): 0.002*liver + 0.002*workers + 0.002*sector + 0.002*water + 0.002*bacteria + 0.002*adverse + 0.002*employed + 0.002*ml + 0.001*coli + 0.001*unemployment\n"
       ]
      },
      {
       "output_type": "stream",
       "stream": "stderr",
       "text": [
        "2014-05-05 10:26:32,598 : INFO : topic #4 (0.100): 0.002*antibiotic + 0.002*policy + 0.001*encounters + 0.001*scores + 0.001*socio + 0.001*score + 0.001*respiratory + 0.001*trust + 0.001*enumeration + 0.001*episodes\n"
       ]
      },
      {
       "output_type": "stream",
       "stream": "stderr",
       "text": [
        "2014-05-05 10:26:32,599 : INFO : topic #5 (0.100): 0.003*water + 0.002*breast + 0.002*functional + 0.002*syndrome + 0.002*women + 0.002*maternal + 0.002*partner + 0.002*pain + 0.002*cancer + 0.002*bowel\n"
       ]
      },
      {
       "output_type": "stream",
       "stream": "stderr",
       "text": [
        "2014-05-05 10:26:32,600 : INFO : topic #6 (0.100): 0.002*vaccination + 0.002*action + 0.002*reform + 0.002*surveillance + 0.001*vaccine + 0.001*public + 0.001*controls + 0.001*date + 0.001*children + 0.001*activities\n"
       ]
      },
      {
       "output_type": "stream",
       "stream": "stderr",
       "text": [
        "2014-05-05 10:26:32,601 : INFO : topic #7 (0.100): 0.001*practitioners + 0.001*public + 0.001*focus + 0.001*scientific + 0.001*research + 0.001*interviews + 0.001*information + 0.001*meetings + 0.001*cases + 0.001*observation\n"
       ]
      },
      {
       "output_type": "stream",
       "stream": "stderr",
       "text": [
        "2014-05-05 10:26:32,602 : INFO : topic #8 (0.100): 0.004*stroke + 0.002*hypertension + 0.002*sexes + 0.001*obesity + 0.001*women + 0.001*prevalence + 0.001*smoking + 0.001*diabetes + 0.001*cholesterol + 0.001*respondents\n"
       ]
      },
      {
       "output_type": "stream",
       "stream": "stderr",
       "text": [
        "2014-05-05 10:26:32,603 : INFO : topic #9 (0.100): 0.002*anti + 0.002*prescriptions + 0.002*skin + 0.002*black + 0.002*prevalence + 0.002*meningococcal + 0.002*contacts + 0.002*race + 0.002*hospitalized + 0.002*agreement\n"
       ]
      },
      {
       "output_type": "stream",
       "stream": "stderr",
       "text": [
        "2014-05-05 10:26:32,603 : INFO : topic diff=0.015375, rho=0.577350\n"
       ]
      },
      {
       "output_type": "stream",
       "stream": "stderr",
       "text": [
        "2014-05-05 10:26:33,355 : INFO : -14.127 per-word bound, 17890.7 perplexity estimate based on a held-out corpus of 25 documents with 274 words\n"
       ]
      },
      {
       "output_type": "stream",
       "stream": "stderr",
       "text": [
        "2014-05-05 10:26:33,356 : INFO : PROGRESS: pass 3, at document #25/25\n"
       ]
      },
      {
       "output_type": "stream",
       "stream": "stderr",
       "text": [
        "2014-05-05 10:26:33,439 : INFO : 25/25 documents converged within 50 iterations\n"
       ]
      },
      {
       "output_type": "stream",
       "stream": "stderr",
       "text": [
        "2014-05-05 10:26:33,445 : INFO : topic #0 (0.100): 0.002*refusal + 0.001*informant + 0.001*scores + 0.001*interview + 0.001*participation + 0.001*depression + 0.001*distress + 0.001*anxiety + 0.001*elderly + 0.001*longitudinal\n"
       ]
      },
      {
       "output_type": "stream",
       "stream": "stderr",
       "text": [
        "2014-05-05 10:26:33,446 : INFO : topic #1 (0.100): 0.003*weight + 0.002*name + 0.001*acquisition + 0.001*rooms + 0.001*reporting + 0.001*discrepancy + 0.001*females + 0.001*diseases + 0.001*epidemiologists + 0.001*weights\n"
       ]
      },
      {
       "output_type": "stream",
       "stream": "stderr",
       "text": [
        "2014-05-05 10:26:33,447 : INFO : topic #2 (0.100): 0.002*elimination + 0.002*deaths + 0.002*death + 0.002*parasite + 0.002*causes + 0.001*verbal + 0.001*cause + 0.001*coverage + 0.001*adult + 0.001*cancer\n"
       ]
      },
      {
       "output_type": "stream",
       "stream": "stderr",
       "text": [
        "2014-05-05 10:26:33,448 : INFO : topic #3 (0.100): 0.002*liver + 0.002*workers + 0.002*sector + 0.002*water + 0.002*bacteria + 0.002*adverse + 0.002*employed + 0.002*ml + 0.001*coli + 0.001*unemployment\n"
       ]
      },
      {
       "output_type": "stream",
       "stream": "stderr",
       "text": [
        "2014-05-05 10:26:33,450 : INFO : topic #4 (0.100): 0.002*antibiotic + 0.002*policy + 0.001*encounters + 0.001*scores + 0.001*socio + 0.001*score + 0.001*respiratory + 0.001*enumeration + 0.001*trust + 0.001*episodes\n"
       ]
      },
      {
       "output_type": "stream",
       "stream": "stderr",
       "text": [
        "2014-05-05 10:26:33,451 : INFO : topic #5 (0.100): 0.003*water + 0.002*breast + 0.002*functional + 0.002*syndrome + 0.002*women + 0.002*maternal + 0.002*partner + 0.002*pain + 0.002*cancer + 0.002*stool\n"
       ]
      },
      {
       "output_type": "stream",
       "stream": "stderr",
       "text": [
        "2014-05-05 10:26:33,452 : INFO : topic #6 (0.100): 0.002*vaccination + 0.002*action + 0.002*reform + 0.002*surveillance + 0.001*vaccine + 0.001*controls + 0.001*public + 0.001*date + 0.001*activities + 0.001*children\n"
       ]
      },
      {
       "output_type": "stream",
       "stream": "stderr",
       "text": [
        "2014-05-05 10:26:33,453 : INFO : topic #7 (0.100): 0.001*practitioners + 0.001*focus + 0.001*public + 0.001*scientific + 0.001*research + 0.001*interviews + 0.001*information + 0.001*meetings + 0.001*cases + 0.001*observation\n"
       ]
      },
      {
       "output_type": "stream",
       "stream": "stderr",
       "text": [
        "2014-05-05 10:26:33,454 : INFO : topic #8 (0.100): 0.004*stroke + 0.002*hypertension + 0.002*sexes + 0.001*obesity + 0.001*women + 0.001*prevalence + 0.001*smoking + 0.001*diabetes + 0.001*cholesterol + 0.001*respondents\n"
       ]
      },
      {
       "output_type": "stream",
       "stream": "stderr",
       "text": [
        "2014-05-05 10:26:33,455 : INFO : topic #9 (0.100): 0.002*anti + 0.002*prescriptions + 0.002*skin + 0.002*black + 0.002*prevalence + 0.002*meningococcal + 0.002*contacts + 0.002*race + 0.002*hospitalized + 0.002*agreement\n"
       ]
      },
      {
       "output_type": "stream",
       "stream": "stderr",
       "text": [
        "2014-05-05 10:26:33,456 : INFO : topic diff=0.006675, rho=0.500000\n"
       ]
      },
      {
       "output_type": "stream",
       "stream": "stderr",
       "text": [
        "2014-05-05 10:26:34,184 : INFO : -14.126 per-word bound, 17876.3 perplexity estimate based on a held-out corpus of 25 documents with 274 words\n"
       ]
      },
      {
       "output_type": "stream",
       "stream": "stderr",
       "text": [
        "2014-05-05 10:26:34,185 : INFO : PROGRESS: pass 4, at document #25/25\n"
       ]
      },
      {
       "output_type": "stream",
       "stream": "stderr",
       "text": [
        "2014-05-05 10:26:34,258 : INFO : 24/25 documents converged within 50 iterations\n"
       ]
      },
      {
       "output_type": "stream",
       "stream": "stderr",
       "text": [
        "2014-05-05 10:26:34,265 : INFO : topic #0 (0.100): 0.002*refusal + 0.001*informant + 0.001*scores + 0.001*interview + 0.001*participation + 0.001*depression + 0.001*distress + 0.001*anxiety + 0.001*elderly + 0.001*longitudinal\n"
       ]
      },
      {
       "output_type": "stream",
       "stream": "stderr",
       "text": [
        "2014-05-05 10:26:34,266 : INFO : topic #1 (0.100): 0.003*weight + 0.002*name + 0.001*acquisition + 0.001*rooms + 0.001*reporting + 0.001*discrepancy + 0.001*females + 0.001*diseases + 0.001*epidemiologists + 0.001*reform\n"
       ]
      },
      {
       "output_type": "stream",
       "stream": "stderr",
       "text": [
        "2014-05-05 10:26:34,267 : INFO : topic #2 (0.100): 0.002*elimination + 0.002*deaths + 0.002*death + 0.002*parasite + 0.002*causes + 0.001*verbal + 0.001*cause + 0.001*coverage + 0.001*adult + 0.001*cancer\n"
       ]
      },
      {
       "output_type": "stream",
       "stream": "stderr",
       "text": [
        "2014-05-05 10:26:34,269 : INFO : topic #3 (0.100): 0.002*liver + 0.002*workers + 0.002*sector + 0.002*water + 0.002*bacteria + 0.002*adverse + 0.002*employed + 0.002*ml + 0.001*coli + 0.001*unemployment\n"
       ]
      },
      {
       "output_type": "stream",
       "stream": "stderr",
       "text": [
        "2014-05-05 10:26:34,270 : INFO : topic #4 (0.100): 0.002*antibiotic + 0.002*policy + 0.001*scores + 0.001*encounters + 0.001*socio + 0.001*score + 0.001*respiratory + 0.001*enumeration + 0.001*trust + 0.001*episodes\n"
       ]
      },
      {
       "output_type": "stream",
       "stream": "stderr",
       "text": [
        "2014-05-05 10:26:34,271 : INFO : topic #5 (0.100): 0.003*water + 0.002*breast + 0.002*functional + 0.002*syndrome + 0.002*women + 0.002*maternal + 0.002*partner + 0.002*pain + 0.002*stool + 0.002*bowel\n"
       ]
      },
      {
       "output_type": "stream",
       "stream": "stderr",
       "text": [
        "2014-05-05 10:26:34,271 : INFO : topic #6 (0.100): 0.002*vaccination + 0.002*action + 0.002*reform + 0.002*surveillance + 0.001*vaccine + 0.001*controls + 0.001*public + 0.001*date + 0.001*activities + 0.001*children\n"
       ]
      },
      {
       "output_type": "stream",
       "stream": "stderr",
       "text": [
        "2014-05-05 10:26:34,273 : INFO : topic #7 (0.100): 0.001*practitioners + 0.001*focus + 0.001*public + 0.001*scientific + 0.001*research + 0.001*interviews + 0.001*information + 0.001*meetings + 0.001*cases + 0.001*observation\n"
       ]
      },
      {
       "output_type": "stream",
       "stream": "stderr",
       "text": [
        "2014-05-05 10:26:34,274 : INFO : topic #8 (0.100): 0.004*stroke + 0.002*hypertension + 0.002*sexes + 0.001*obesity + 0.001*women + 0.001*prevalence + 0.001*smoking + 0.001*diabetes + 0.001*cholesterol + 0.001*respondents\n"
       ]
      },
      {
       "output_type": "stream",
       "stream": "stderr",
       "text": [
        "2014-05-05 10:26:34,275 : INFO : topic #9 (0.100): 0.002*anti + 0.002*prescriptions + 0.002*skin + 0.002*black + 0.002*prevalence + 0.002*meningococcal + 0.002*contacts + 0.002*race + 0.002*hospitalized + 0.002*agreement\n"
       ]
      },
      {
       "output_type": "stream",
       "stream": "stderr",
       "text": [
        "2014-05-05 10:26:34,276 : INFO : topic diff=0.004433, rho=0.447214\n"
       ]
      },
      {
       "output_type": "stream",
       "stream": "stderr",
       "text": [
        "2014-05-05 10:26:35,090 : INFO : -14.124 per-word bound, 17850.0 perplexity estimate based on a held-out corpus of 25 documents with 274 words\n"
       ]
      },
      {
       "output_type": "stream",
       "stream": "stderr",
       "text": [
        "2014-05-05 10:26:35,091 : INFO : PROGRESS: pass 5, at document #25/25\n"
       ]
      },
      {
       "output_type": "stream",
       "stream": "stderr",
       "text": [
        "2014-05-05 10:26:35,184 : INFO : 25/25 documents converged within 50 iterations\n"
       ]
      },
      {
       "output_type": "stream",
       "stream": "stderr",
       "text": [
        "2014-05-05 10:26:35,191 : INFO : topic #0 (0.100): 0.002*refusal + 0.001*informant + 0.001*scores + 0.001*interview + 0.001*participation + 0.001*depression + 0.001*distress + 0.001*anxiety + 0.001*elderly + 0.001*longitudinal\n"
       ]
      },
      {
       "output_type": "stream",
       "stream": "stderr",
       "text": [
        "2014-05-05 10:26:35,192 : INFO : topic #1 (0.100): 0.003*weight + 0.002*name + 0.001*acquisition + 0.001*reporting + 0.001*rooms + 0.001*discrepancy + 0.001*females + 0.001*diseases + 0.001*epidemiologists + 0.001*reform\n"
       ]
      },
      {
       "output_type": "stream",
       "stream": "stderr",
       "text": [
        "2014-05-05 10:26:35,193 : INFO : topic #2 (0.100): 0.002*elimination + 0.002*deaths + 0.002*death + 0.002*parasite + 0.002*causes + 0.001*verbal + 0.001*cause + 0.001*coverage + 0.001*adult + 0.001*cancer\n"
       ]
      },
      {
       "output_type": "stream",
       "stream": "stderr",
       "text": [
        "2014-05-05 10:26:35,194 : INFO : topic #3 (0.100): 0.002*liver + 0.002*workers + 0.002*sector + 0.002*water + 0.002*bacteria + 0.002*adverse + 0.002*employed + 0.002*ml + 0.001*coli + 0.001*unemployment\n"
       ]
      },
      {
       "output_type": "stream",
       "stream": "stderr",
       "text": [
        "2014-05-05 10:26:35,195 : INFO : topic #4 (0.100): 0.002*antibiotic + 0.002*policy + 0.001*scores + 0.001*encounters + 0.001*socio + 0.001*score + 0.001*respiratory + 0.001*enumeration + 0.001*trust + 0.001*episodes\n"
       ]
      },
      {
       "output_type": "stream",
       "stream": "stderr",
       "text": [
        "2014-05-05 10:26:35,196 : INFO : topic #5 (0.100): 0.003*water + 0.002*breast + 0.002*functional + 0.002*syndrome + 0.002*women + 0.002*maternal + 0.002*partner + 0.002*pain + 0.002*stool + 0.002*bowel\n"
       ]
      },
      {
       "output_type": "stream",
       "stream": "stderr",
       "text": [
        "2014-05-05 10:26:35,197 : INFO : topic #6 (0.100): 0.002*vaccination + 0.002*action + 0.002*reform + 0.002*surveillance + 0.001*vaccine + 0.001*public + 0.001*controls + 0.001*date + 0.001*activities + 0.001*onset\n"
       ]
      },
      {
       "output_type": "stream",
       "stream": "stderr",
       "text": [
        "2014-05-05 10:26:35,198 : INFO : topic #7 (0.100): 0.001*practitioners + 0.001*focus + 0.001*public + 0.001*scientific + 0.001*research + 0.001*interviews + 0.001*information + 0.001*meetings + 0.001*cases + 0.001*observation\n"
       ]
      },
      {
       "output_type": "stream",
       "stream": "stderr",
       "text": [
        "2014-05-05 10:26:35,199 : INFO : topic #8 (0.100): 0.004*stroke + 0.002*hypertension + 0.002*sexes + 0.001*obesity + 0.001*women + 0.001*prevalence + 0.001*smoking + 0.001*diabetes + 0.001*cholesterol + 0.001*respondents\n"
       ]
      },
      {
       "output_type": "stream",
       "stream": "stderr",
       "text": [
        "2014-05-05 10:26:35,200 : INFO : topic #9 (0.100): 0.002*anti + 0.002*prescriptions + 0.002*skin + 0.002*black + 0.002*prevalence + 0.002*meningococcal + 0.002*contacts + 0.002*race + 0.002*hospitalized + 0.002*agreement\n"
       ]
      },
      {
       "output_type": "stream",
       "stream": "stderr",
       "text": [
        "2014-05-05 10:26:35,201 : INFO : topic diff=0.003653, rho=0.408248\n"
       ]
      },
      {
       "output_type": "stream",
       "stream": "stderr",
       "text": [
        "2014-05-05 10:26:35,982 : INFO : -14.122 per-word bound, 17828.1 perplexity estimate based on a held-out corpus of 25 documents with 274 words\n"
       ]
      },
      {
       "output_type": "stream",
       "stream": "stderr",
       "text": [
        "2014-05-05 10:26:35,982 : INFO : PROGRESS: pass 6, at document #25/25\n"
       ]
      },
      {
       "output_type": "stream",
       "stream": "stderr",
       "text": [
        "2014-05-05 10:26:36,068 : INFO : 25/25 documents converged within 50 iterations\n"
       ]
      },
      {
       "output_type": "stream",
       "stream": "stderr",
       "text": [
        "2014-05-05 10:26:36,076 : INFO : topic #0 (0.100): 0.002*refusal + 0.001*informant + 0.001*scores + 0.001*interview + 0.001*participation + 0.001*depression + 0.001*distress + 0.001*anxiety + 0.001*elderly + 0.001*longitudinal\n"
       ]
      },
      {
       "output_type": "stream",
       "stream": "stderr",
       "text": [
        "2014-05-05 10:26:36,077 : INFO : topic #1 (0.100): 0.003*weight + 0.002*name + 0.001*acquisition + 0.001*reporting + 0.001*rooms + 0.001*discrepancy + 0.001*females + 0.001*diseases + 0.001*epidemiologists + 0.001*reform\n"
       ]
      },
      {
       "output_type": "stream",
       "stream": "stderr",
       "text": [
        "2014-05-05 10:26:36,078 : INFO : topic #2 (0.100): 0.002*elimination + 0.002*deaths + 0.002*death + 0.002*parasite + 0.002*causes + 0.001*verbal + 0.001*cause + 0.001*coverage + 0.001*adult + 0.001*cancer\n"
       ]
      },
      {
       "output_type": "stream",
       "stream": "stderr",
       "text": [
        "2014-05-05 10:26:36,079 : INFO : topic #3 (0.100): 0.002*liver + 0.002*workers + 0.002*sector + 0.002*water + 0.002*bacteria + 0.002*adverse + 0.002*employed + 0.002*ml + 0.001*coli + 0.001*unemployment\n"
       ]
      },
      {
       "output_type": "stream",
       "stream": "stderr",
       "text": [
        "2014-05-05 10:26:36,080 : INFO : topic #4 (0.100): 0.002*antibiotic + 0.002*policy + 0.001*scores + 0.001*encounters + 0.001*socio + 0.001*score + 0.001*respiratory + 0.001*enumeration + 0.001*trust + 0.001*episodes\n"
       ]
      },
      {
       "output_type": "stream",
       "stream": "stderr",
       "text": [
        "2014-05-05 10:26:36,081 : INFO : topic #5 (0.100): 0.003*water + 0.002*breast + 0.002*functional + 0.002*syndrome + 0.002*women + 0.002*maternal + 0.002*pain + 0.002*partner + 0.002*stool + 0.002*bowel\n"
       ]
      },
      {
       "output_type": "stream",
       "stream": "stderr",
       "text": [
        "2014-05-05 10:26:36,082 : INFO : topic #6 (0.100): 0.002*vaccination + 0.002*action + 0.002*reform + 0.002*surveillance + 0.001*vaccine + 0.001*public + 0.001*controls + 0.001*date + 0.001*activities + 0.001*onset\n"
       ]
      },
      {
       "output_type": "stream",
       "stream": "stderr",
       "text": [
        "2014-05-05 10:26:36,083 : INFO : topic #7 (0.100): 0.001*practitioners + 0.001*focus + 0.001*public + 0.001*scientific + 0.001*research + 0.001*interviews + 0.001*information + 0.001*meetings + 0.001*cases + 0.001*observation\n"
       ]
      },
      {
       "output_type": "stream",
       "stream": "stderr",
       "text": [
        "2014-05-05 10:26:36,085 : INFO : topic #8 (0.100): 0.004*stroke + 0.002*hypertension + 0.002*sexes + 0.001*obesity + 0.001*women + 0.001*prevalence + 0.001*smoking + 0.001*diabetes + 0.001*cholesterol + 0.001*children\n"
       ]
      },
      {
       "output_type": "stream",
       "stream": "stderr",
       "text": [
        "2014-05-05 10:26:36,086 : INFO : topic #9 (0.100): 0.002*anti + 0.002*prescriptions + 0.002*skin + 0.002*black + 0.002*prevalence + 0.002*meningococcal + 0.002*contacts + 0.002*race + 0.002*hospitalized + 0.002*agreement\n"
       ]
      },
      {
       "output_type": "stream",
       "stream": "stderr",
       "text": [
        "2014-05-05 10:26:36,086 : INFO : topic diff=0.002831, rho=0.377964\n"
       ]
      },
      {
       "output_type": "stream",
       "stream": "stderr",
       "text": [
        "2014-05-05 10:26:36,833 : INFO : -14.123 per-word bound, 17838.2 perplexity estimate based on a held-out corpus of 25 documents with 274 words\n"
       ]
      },
      {
       "output_type": "stream",
       "stream": "stderr",
       "text": [
        "2014-05-05 10:26:36,834 : INFO : PROGRESS: pass 7, at document #25/25\n"
       ]
      },
      {
       "output_type": "stream",
       "stream": "stderr",
       "text": [
        "2014-05-05 10:26:36,918 : INFO : 24/25 documents converged within 50 iterations\n"
       ]
      },
      {
       "output_type": "stream",
       "stream": "stderr",
       "text": [
        "2014-05-05 10:26:36,924 : INFO : topic #0 (0.100): 0.002*refusal + 0.001*informant + 0.001*scores + 0.001*interview + 0.001*participation + 0.001*depression + 0.001*distress + 0.001*anxiety + 0.001*elderly + 0.001*longitudinal\n"
       ]
      },
      {
       "output_type": "stream",
       "stream": "stderr",
       "text": [
        "2014-05-05 10:26:36,924 : INFO : topic #1 (0.100): 0.003*weight + 0.002*name + 0.001*acquisition + 0.001*reporting + 0.001*rooms + 0.001*discrepancy + 0.001*diseases + 0.001*females + 0.001*epidemiologists + 0.001*reform\n"
       ]
      },
      {
       "output_type": "stream",
       "stream": "stderr",
       "text": [
        "2014-05-05 10:26:36,925 : INFO : topic #2 (0.100): 0.002*elimination + 0.002*deaths + 0.002*death + 0.002*parasite + 0.002*causes + 0.001*verbal + 0.001*cause + 0.001*coverage + 0.001*adult + 0.001*cancer\n"
       ]
      },
      {
       "output_type": "stream",
       "stream": "stderr",
       "text": [
        "2014-05-05 10:26:36,926 : INFO : topic #3 (0.100): 0.002*liver + 0.002*workers + 0.002*sector + 0.002*water + 0.002*bacteria + 0.002*adverse + 0.002*employed + 0.002*ml + 0.001*coli + 0.001*unemployment\n"
       ]
      },
      {
       "output_type": "stream",
       "stream": "stderr",
       "text": [
        "2014-05-05 10:26:36,928 : INFO : topic #4 (0.100): 0.002*antibiotic + 0.002*policy + 0.001*scores + 0.001*encounters + 0.001*socio + 0.001*score + 0.001*respiratory + 0.001*enumeration + 0.001*trust + 0.001*episodes\n"
       ]
      },
      {
       "output_type": "stream",
       "stream": "stderr",
       "text": [
        "2014-05-05 10:26:36,929 : INFO : topic #5 (0.100): 0.003*water + 0.002*breast + 0.002*functional + 0.002*syndrome + 0.002*women + 0.002*maternal + 0.002*bowel + 0.002*stool + 0.002*pain + 0.002*partner\n"
       ]
      },
      {
       "output_type": "stream",
       "stream": "stderr",
       "text": [
        "2014-05-05 10:26:36,930 : INFO : topic #6 (0.100): 0.002*vaccination + 0.002*action + 0.002*reform + 0.002*surveillance + 0.001*vaccine + 0.001*public + 0.001*controls + 0.001*date + 0.001*activities + 0.001*onset\n"
       ]
      },
      {
       "output_type": "stream",
       "stream": "stderr",
       "text": [
        "2014-05-05 10:26:36,931 : INFO : topic #7 (0.100): 0.001*practitioners + 0.001*focus + 0.001*public + 0.001*scientific + 0.001*research + 0.001*interviews + 0.001*information + 0.001*meetings + 0.001*cases + 0.001*observation\n"
       ]
      },
      {
       "output_type": "stream",
       "stream": "stderr",
       "text": [
        "2014-05-05 10:26:36,932 : INFO : topic #8 (0.100): 0.004*stroke + 0.002*hypertension + 0.002*sexes + 0.001*obesity + 0.001*women + 0.001*prevalence + 0.001*smoking + 0.001*diabetes + 0.001*cholesterol + 0.001*children\n"
       ]
      },
      {
       "output_type": "stream",
       "stream": "stderr",
       "text": [
        "2014-05-05 10:26:36,934 : INFO : topic #9 (0.100): 0.002*anti + 0.002*prescriptions + 0.002*skin + 0.002*black + 0.002*prevalence + 0.002*meningococcal + 0.002*contacts + 0.002*race + 0.002*hospitalized + 0.002*agreement\n"
       ]
      },
      {
       "output_type": "stream",
       "stream": "stderr",
       "text": [
        "2014-05-05 10:26:36,934 : INFO : topic diff=0.003109, rho=0.353553\n"
       ]
      },
      {
       "output_type": "stream",
       "stream": "stderr",
       "text": [
        "2014-05-05 10:26:37,604 : INFO : -14.121 per-word bound, 17819.7 perplexity estimate based on a held-out corpus of 25 documents with 274 words\n"
       ]
      },
      {
       "output_type": "stream",
       "stream": "stderr",
       "text": [
        "2014-05-05 10:26:37,604 : INFO : PROGRESS: pass 8, at document #25/25\n"
       ]
      },
      {
       "output_type": "stream",
       "stream": "stderr",
       "text": [
        "2014-05-05 10:26:37,686 : INFO : 25/25 documents converged within 50 iterations\n"
       ]
      },
      {
       "output_type": "stream",
       "stream": "stderr",
       "text": [
        "2014-05-05 10:26:37,692 : INFO : topic #0 (0.100): 0.002*refusal + 0.001*informant + 0.001*scores + 0.001*interview + 0.001*participation + 0.001*depression + 0.001*distress + 0.001*anxiety + 0.001*elderly + 0.001*longitudinal\n"
       ]
      },
      {
       "output_type": "stream",
       "stream": "stderr",
       "text": [
        "2014-05-05 10:26:37,693 : INFO : topic #1 (0.100): 0.003*weight + 0.002*name + 0.001*reporting + 0.001*acquisition + 0.001*rooms + 0.001*diseases + 0.001*discrepancy + 0.001*females + 0.001*epidemiologists + 0.001*reform\n"
       ]
      },
      {
       "output_type": "stream",
       "stream": "stderr",
       "text": [
        "2014-05-05 10:26:37,694 : INFO : topic #2 (0.100): 0.002*elimination + 0.002*deaths + 0.002*death + 0.002*parasite + 0.002*causes + 0.001*verbal + 0.001*cause + 0.001*coverage + 0.001*adult + 0.001*cancer\n"
       ]
      },
      {
       "output_type": "stream",
       "stream": "stderr",
       "text": [
        "2014-05-05 10:26:37,696 : INFO : topic #3 (0.100): 0.002*liver + 0.002*workers + 0.002*sector + 0.002*water + 0.002*bacteria + 0.002*adverse + 0.002*employed + 0.002*ml + 0.001*coli + 0.001*unemployment\n"
       ]
      },
      {
       "output_type": "stream",
       "stream": "stderr",
       "text": [
        "2014-05-05 10:26:37,697 : INFO : topic #4 (0.100): 0.002*antibiotic + 0.002*policy + 0.001*scores + 0.001*encounters + 0.001*socio + 0.001*score + 0.001*respiratory + 0.001*enumeration + 0.001*trust + 0.001*episodes\n"
       ]
      },
      {
       "output_type": "stream",
       "stream": "stderr",
       "text": [
        "2014-05-05 10:26:37,699 : INFO : topic #5 (0.100): 0.003*water + 0.002*breast + 0.002*functional + 0.002*syndrome + 0.002*women + 0.002*maternal + 0.002*bowel + 0.002*stool + 0.002*pain + 0.002*partner\n"
       ]
      },
      {
       "output_type": "stream",
       "stream": "stderr",
       "text": [
        "2014-05-05 10:26:37,700 : INFO : topic #6 (0.100): 0.002*vaccination + 0.002*action + 0.002*reform + 0.002*surveillance + 0.001*vaccine + 0.001*public + 0.001*controls + 0.001*date + 0.001*activities + 0.001*onset\n"
       ]
      },
      {
       "output_type": "stream",
       "stream": "stderr",
       "text": [
        "2014-05-05 10:26:37,702 : INFO : topic #7 (0.100): 0.001*practitioners + 0.001*focus + 0.001*public + 0.001*scientific + 0.001*research + 0.001*interviews + 0.001*information + 0.001*meetings + 0.001*cases + 0.001*observation\n"
       ]
      },
      {
       "output_type": "stream",
       "stream": "stderr",
       "text": [
        "2014-05-05 10:26:37,703 : INFO : topic #8 (0.100): 0.004*stroke + 0.002*hypertension + 0.002*sexes + 0.001*obesity + 0.001*women + 0.001*prevalence + 0.001*smoking + 0.001*diabetes + 0.001*cholesterol + 0.001*children\n"
       ]
      },
      {
       "output_type": "stream",
       "stream": "stderr",
       "text": [
        "2014-05-05 10:26:37,704 : INFO : topic #9 (0.100): 0.002*anti + 0.002*prescriptions + 0.002*skin + 0.002*black + 0.002*prevalence + 0.002*meningococcal + 0.002*contacts + 0.002*race + 0.002*hospitalized + 0.002*agreement\n"
       ]
      },
      {
       "output_type": "stream",
       "stream": "stderr",
       "text": [
        "2014-05-05 10:26:37,705 : INFO : topic diff=0.003687, rho=0.333333\n"
       ]
      },
      {
       "output_type": "stream",
       "stream": "stderr",
       "text": [
        "2014-05-05 10:26:38,378 : INFO : -14.119 per-word bound, 17798.0 perplexity estimate based on a held-out corpus of 25 documents with 274 words\n"
       ]
      },
      {
       "output_type": "stream",
       "stream": "stderr",
       "text": [
        "2014-05-05 10:26:38,379 : INFO : PROGRESS: pass 9, at document #25/25\n"
       ]
      },
      {
       "output_type": "stream",
       "stream": "stderr",
       "text": [
        "2014-05-05 10:26:38,459 : INFO : 25/25 documents converged within 50 iterations\n"
       ]
      },
      {
       "output_type": "stream",
       "stream": "stderr",
       "text": [
        "2014-05-05 10:26:38,465 : INFO : topic #0 (0.100): 0.002*refusal + 0.001*informant + 0.001*scores + 0.001*interview + 0.001*participation + 0.001*depression + 0.001*distress + 0.001*anxiety + 0.001*elderly + 0.001*longitudinal\n"
       ]
      },
      {
       "output_type": "stream",
       "stream": "stderr",
       "text": [
        "2014-05-05 10:26:38,467 : INFO : topic #1 (0.100): 0.002*weight + 0.002*name + 0.001*reporting + 0.001*acquisition + 0.001*rooms + 0.001*diseases + 0.001*discrepancy + 0.001*females + 0.001*epidemiologists + 0.001*reform\n"
       ]
      },
      {
       "output_type": "stream",
       "stream": "stderr",
       "text": [
        "2014-05-05 10:26:38,468 : INFO : topic #2 (0.100): 0.002*elimination + 0.002*deaths + 0.002*death + 0.002*parasite + 0.002*causes + 0.001*verbal + 0.001*cause + 0.001*coverage + 0.001*adult + 0.001*cancer\n"
       ]
      },
      {
       "output_type": "stream",
       "stream": "stderr",
       "text": [
        "2014-05-05 10:26:38,469 : INFO : topic #3 (0.100): 0.002*liver + 0.002*workers + 0.002*sector + 0.002*water + 0.002*bacteria + 0.002*adverse + 0.002*employed + 0.002*ml + 0.001*coli + 0.001*unemployment\n"
       ]
      },
      {
       "output_type": "stream",
       "stream": "stderr",
       "text": [
        "2014-05-05 10:26:38,470 : INFO : topic #4 (0.100): 0.002*antibiotic + 0.002*policy + 0.001*scores + 0.001*encounters + 0.001*socio + 0.001*score + 0.001*respiratory + 0.001*enumeration + 0.001*trust + 0.001*episodes\n"
       ]
      },
      {
       "output_type": "stream",
       "stream": "stderr",
       "text": [
        "2014-05-05 10:26:38,471 : INFO : topic #5 (0.100): 0.003*water + 0.002*breast + 0.002*functional + 0.002*syndrome + 0.002*women + 0.002*maternal + 0.002*bowel + 0.002*stool + 0.002*pain + 0.002*partner\n"
       ]
      },
      {
       "output_type": "stream",
       "stream": "stderr",
       "text": [
        "2014-05-05 10:26:38,472 : INFO : topic #6 (0.100): 0.002*vaccination + 0.002*action + 0.002*reform + 0.002*surveillance + 0.001*vaccine + 0.001*public + 0.001*controls + 0.001*date + 0.001*activities + 0.001*onset\n"
       ]
      },
      {
       "output_type": "stream",
       "stream": "stderr",
       "text": [
        "2014-05-05 10:26:38,473 : INFO : topic #7 (0.100): 0.001*practitioners + 0.001*focus + 0.001*public + 0.001*scientific + 0.001*research + 0.001*interviews + 0.001*information + 0.001*meetings + 0.001*cases + 0.001*observation\n"
       ]
      },
      {
       "output_type": "stream",
       "stream": "stderr",
       "text": [
        "2014-05-05 10:26:38,474 : INFO : topic #8 (0.100): 0.004*stroke + 0.002*hypertension + 0.002*sexes + 0.001*obesity + 0.001*women + 0.001*prevalence + 0.001*smoking + 0.001*diabetes + 0.001*cholesterol + 0.001*children\n"
       ]
      },
      {
       "output_type": "stream",
       "stream": "stderr",
       "text": [
        "2014-05-05 10:26:38,475 : INFO : topic #9 (0.100): 0.002*anti + 0.002*prescriptions + 0.002*skin + 0.002*black + 0.002*prevalence + 0.002*meningococcal + 0.002*contacts + 0.002*race + 0.002*hospitalized + 0.002*agreement\n"
       ]
      },
      {
       "output_type": "stream",
       "stream": "stderr",
       "text": [
        "2014-05-05 10:26:38,476 : INFO : topic diff=0.003604, rho=0.316228\n"
       ]
      }
     ],
     "prompt_number": 102
    },
    {
     "cell_type": "code",
     "collapsed": false,
     "input": [
      "#perplexity is a measure of how well of probability model predicts the corpus\n",
      "lda.log_perplexity([doc for doc in corpusTfidf])"
     ],
     "language": "python",
     "metadata": {},
     "outputs": [
      {
       "output_type": "stream",
       "stream": "stderr",
       "text": [
        "2014-05-05 10:26:39,081 : INFO : -14.118 per-word bound, 17777.2 perplexity estimate based on a held-out corpus of 25 documents with 274 words\n"
       ]
      },
      {
       "metadata": {},
       "output_type": "pyout",
       "prompt_number": 103,
       "text": [
        "-14.11774131451485"
       ]
      }
     ],
     "prompt_number": 103
    },
    {
     "cell_type": "code",
     "collapsed": false,
     "input": [
      "count = 0\n",
      "for topic in lda.show_topics(10, topn = 20):\n",
      "    print 'Topic #%d: %s \\n' % (count, topic)\n",
      "    count += 1"
     ],
     "language": "python",
     "metadata": {},
     "outputs": [
      {
       "output_type": "stream",
       "stream": "stdout",
       "text": [
        "Topic #0: 0.002*stroke + 0.001*elimination + 0.001*parasite + 0.001*respondents + 0.001*coverage + 0.001*assumed + 0.001*treatment + 0.001*success + 0.001*infection + 0.001*continued + 0.001*programme + 0.001*drug + 0.001*programmes + 0.001*adult + 0.001*transmission + 0.001*introduction + 0.001*knowledge + 0.001*human + 0.001*achieving + 0.001*probability \n",
        "\n",
        "Topic #1: 0.001*weight + 0.001*liver + 0.001*name + 0.001*workers + 0.001*prophylaxis + 0.001*prescriptions + 0.001*sector + 0.001*skin + 0.001*black + 0.001*race + 0.001*users + 0.001*meningococcal + 0.001*adverse + 0.001*employed + 0.001*visits + 0.001*encounters + 0.001*agreement + 0.001*contacts + 0.001*prescribing + 0.001*alcohol \n",
        "\n",
        "Topic #2: 0.001*anti + 0.001*water + 0.001*prevalence + 0.001*bacteria + 0.001*hospitalized + 0.001*ml + 0.001*coli + 0.001*contaminated + 0.001*island + 0.001*contamination + 0.001*sexes + 0.001*indicator + 0.001*standards + 0.001*markers + 0.001*drinking + 0.001*hepatitis + 0.001*donors + 0.001*fecal + 0.001*females + 0.001*blood \n",
        "\n",
        "Topic #3: 0.002*water + 0.001*breast + 0.001*scores + 0.001*cancer + 0.001*death + 0.001*score + 0.001*deaths + 0.001*syndrome + 0.001*refusal + 0.001*verbal + 0.001*causes + 0.001*women + 0.001*stool + 0.001*practitioners + 0.001*interview + 0.001*informant + 0.001*socio + 0.001*screening + 0.001*children + 0.001*cause \n",
        "\n",
        "Topic #4: 0.001*reform + 0.001*surveillance + 0.001*vaccination + 0.001*antibiotic + 0.001*functional + 0.001*action + 0.001*smoking + 0.001*women + 0.001*bowel + 0.001*policy + 0.001*pain + 0.001*partner + 0.001*hypertension + 0.001*controls + 0.001*sexes + 0.001*public + 0.001*choice + 0.001*deprivation + 0.001*obesity + 0.001*reporting \n",
        "\n"
       ]
      }
     ],
     "prompt_number": 92
    },
    {
     "cell_type": "code",
     "collapsed": false,
     "input": [
      "import numpy as np\n",
      "\n",
      "simMatrix = np.zeros(shape = (corpusTfidf.obj.num_docs,) * 2)\n",
      "count = 0\n",
      "for doc in corpusTfidf:\n",
      "    simMatrix[count] = index[lda[doc]]\n",
      "    count += 1"
     ],
     "language": "python",
     "metadata": {},
     "outputs": [],
     "prompt_number": 49
    },
    {
     "cell_type": "code",
     "collapsed": false,
     "input": [
      "#sorts each row from highest to lowest similarity\n",
      "for row in simMatrix:\n",
      "    print sorted(enumerate(row), key = lambda x : x[1])[::-1]"
     ],
     "language": "python",
     "metadata": {},
     "outputs": [
      {
       "output_type": "stream",
       "stream": "stdout",
       "text": [
        "[(0, 1.0), (24, 0.99563068151473999), (12, 0.38627496361732483), (11, 0.38062900304794312), (16, 0.33402085304260254), (5, 0.32365328073501587), (18, 0.31038969755172729), (3, 0.31021925806999207), (15, 0.28288185596466064), (6, 0.27349498867988586), (1, 0.2607046365737915), (7, 0.2538507878780365), (14, 0.25013986229896545), (2, 0.24902783334255219), (20, 0.24685332179069519), (19, 0.23922847211360931), (17, 0.23324412107467651), (21, 0.23273307085037231), (8, 0.21452650427818298), (23, 0.21400351822376251), (9, 0.2087920755147934), (4, 0.2067931592464447), (22, 0.19722166657447815), (13, 0.18426308035850525), (10, 0.16925527155399323)]\n",
        "[(1, 1.0), (14, 0.99796909093856812), (13, 0.99571800231933594), (5, 0.57913154363632202), (11, 0.50746029615402222), (12, 0.47652995586395264), (16, 0.40492057800292969), (21, 0.38348311185836792), (7, 0.35771015286445618), (23, 0.35132738947868347), (24, 0.34732323884963989), (20, 0.34681028127670288), (22, 0.34499412775039673), (15, 0.33656522631645203), (3, 0.32701447606086731), (18, 0.31775680184364319), (4, 0.31531450152397156), (9, 0.31323143839836121), (2, 0.29947862029075623), (8, 0.29708877205848694), (6, 0.26616314053535461), (0, 0.26070514321327209), (17, 0.25624772906303406), (10, 0.25022843480110168), (19, 0.24539606273174286)]\n",
        "[(2, 0.99999994039535522), (23, 0.99671834707260132), (12, 0.30491361021995544), (1, 0.29947927594184875), (14, 0.29786586761474609), (13, 0.27926462888717651), (24, 0.26873856782913208), (9, 0.26385849714279175), (0, 0.24902878701686859), (11, 0.23311005532741547), (5, 0.21496880054473877), (19, 0.21350634098052979), (18, 0.19475029408931732), (16, 0.17569407820701599), (21, 0.15400087833404541), (15, 0.15396897494792938), (7, 0.1482296884059906), (3, 0.14672479033470154), (20, 0.14258989691734314), (4, 0.1312517374753952), (6, 0.13119319081306458), (22, 0.12488603591918945), (8, 0.12201195955276489), (17, 0.11999662220478058), (10, 0.098689727485179901)]\n",
        "[(3, 1.0), (18, 0.88678467273712158), (24, 0.33102336525917053), (1, 0.3270128071308136), (14, 0.32222098112106323), (0, 0.31021782755851746), (13, 0.30196854472160339), (16, 0.29936507344245911), (19, 0.25913539528846741), (22, 0.25095605850219727), (11, 0.24716374278068542), (5, 0.2360444962978363), (12, 0.22822493314743042), (9, 0.19926929473876953), (15, 0.16740316152572632), (21, 0.16593432426452637), (7, 0.16232481598854065), (20, 0.15677022933959961), (23, 0.15420633554458618), (2, 0.14672338962554932), (6, 0.1446211040019989), (4, 0.14129479229450226), (8, 0.1345999538898468), (17, 0.13146144151687622), (10, 0.109364353120327)]\n",
        "[(4, 1.0), (6, 0.9953988790512085), (1, 0.31531447172164917), (14, 0.31423795223236084), (13, 0.29837268590927124), (11, 0.23164165019989014), (9, 0.23108658194541931), (24, 0.22911275923252106), (19, 0.21730683743953705), (5, 0.21634054183959961), (0, 0.206793412566185), (12, 0.20263147354125977), (18, 0.19309279322624207), (16, 0.17160312831401825), (21, 0.15465521812438965), (15, 0.1509833037853241), (7, 0.14683832228183746), (23, 0.14523918926715851), (3, 0.14129588007926941), (20, 0.14110353589057922), (2, 0.13125151395797729), (22, 0.12501338124275208), (8, 0.12053048610687256), (17, 0.11679399013519287), (10, 0.097852259874343872)]\n",
        "[(5, 1.0), (1, 0.57912838459014893), (14, 0.57684618234634399), (13, 0.55892539024353027), (24, 0.3693009614944458), (11, 0.36698940396308899), (12, 0.33677157759666443), (0, 0.32365170121192932), (15, 0.31723341345787048), (9, 0.28614062070846558), (16, 0.28082937002182007), (8, 0.27919784188270569), (18, 0.27017596364021301), (21, 0.25797387957572937), (19, 0.25658917427062988), (7, 0.24580064415931702), (20, 0.23903387784957886), (23, 0.23891353607177734), (3, 0.23604464530944824), (4, 0.21633923053741455), (22, 0.21521617472171783), (2, 0.21496701240539551), (6, 0.20265524089336395), (17, 0.18893294036388397), (10, 0.16776230931282043)]\n",
        "[(6, 1.0), (4, 0.99539899826049805), (24, 0.28924751281738281), (0, 0.27349549531936646), (1, 0.26616355776786804), (14, 0.26431065797805786), (13, 0.2429472804069519), (11, 0.22810289263725281), (9, 0.22721473872661591), (19, 0.22088369727134705), (5, 0.20265679061412811), (12, 0.20165827870368958), (18, 0.19725251197814941), (16, 0.17245765030384064), (15, 0.15119320154190063), (21, 0.14721894264221191), (3, 0.14462238550186157), (7, 0.14302429556846619), (23, 0.13851393759250641), (20, 0.13746060431003571), (2, 0.1311931312084198), (22, 0.11848787218332291), (17, 0.11847513914108276), (8, 0.11766678094863892), (10, 0.094452038407325745)]\n",
        "[(7, 1.0), (17, 0.99429482221603394), (1, 0.35771724581718445), (14, 0.35604354739189148), (13, 0.33863285183906555), (11, 0.29317751526832581), (24, 0.27903714776039124), (0, 0.25385171175003052), (5, 0.24580638110637665), (12, 0.2300790548324585), (9, 0.23005883395671844), (19, 0.21506309509277344), (18, 0.20494601130485535), (16, 0.19408130645751953), (21, 0.17338758707046509), (15, 0.16967013478279114), (3, 0.16232827305793762), (23, 0.16185644268989563), (20, 0.16005375981330872), (2, 0.14823178946971893), (4, 0.146840900182724), (6, 0.14302623271942139), (22, 0.14209872484207153), (8, 0.13700771331787109), (10, 0.11164546757936478)]\n",
        "[(8, 1.0), (15, 0.99332612752914429), (1, 0.29708901047706604), (14, 0.29555594921112061), (13, 0.28165546059608459), (5, 0.27919924259185791), (24, 0.25245445966720581), (0, 0.21452686190605164), (11, 0.20900502800941467), (12, 0.18992058932781219), (9, 0.17689408361911774), (19, 0.16448009014129639), (18, 0.16316284239292145), (16, 0.15982674062252045), (20, 0.15024036169052124), (21, 0.14249622821807861), (7, 0.13700559735298157), (3, 0.13460096716880798), (23, 0.13260990381240845), (2, 0.12201179563999176), (4, 0.12053056806325912), (6, 0.11766670644283295), (22, 0.11759854853153229), (17, 0.10837726294994354), (10, 0.092496171593666077)]\n",
        "[(9, 1.0), (19, 0.99253684282302856), (18, 0.60873723030090332), (11, 0.48679196834564209), (12, 0.32206544280052185), (14, 0.31750643253326416), (1, 0.31323122978210449), (23, 0.30440223217010498), (16, 0.29084399342536926), (5, 0.2861429750919342), (15, 0.27558499574661255), (2, 0.26385816931724548), (21, 0.26042303442955017), (13, 0.25867649912834167), (4, 0.23108650743961334), (7, 0.23005290329456329), (6, 0.22721430659294128), (24, 0.22154593467712402), (20, 0.21273939311504364), (0, 0.20879234373569489), (17, 0.20806920528411865), (3, 0.19927243888378143), (8, 0.17689394950866699), (22, 0.16960662603378296), (10, 0.13106028735637665)]\n",
        "[(10, 0.99999994039535522), (1, 0.25022774934768677), (14, 0.24894604086875916), (13, 0.23895211517810822), (24, 0.18746170401573181), (0, 0.16925489902496338), (5, 0.16776274144649506), (11, 0.16753962635993958), (12, 0.15429168939590454), (9, 0.13105922937393188), (16, 0.1292140781879425), (18, 0.12576588988304138), (19, 0.11984464526176453), (21, 0.11612536013126373), (15, 0.1122729629278183), (7, 0.11164324730634689), (3, 0.10936470329761505), (20, 0.10787020623683929), (23, 0.10762584954500198), (2, 0.098689146339893341), (4, 0.097851887345314026), (22, 0.096718117594718933), (6, 0.094451531767845154), (8, 0.09249577671289444), (17, 0.087291643023490906)]\n",
        "[(11, 1.0), (1, 0.50745797157287598), (14, 0.50596511363983154), (9, 0.48679161071777344), (13, 0.47103923559188843), (19, 0.46819806098937988), (24, 0.4138493537902832), (18, 0.38113337755203247), (0, 0.38062742352485657), (5, 0.36699023842811584), (12, 0.35581836104393005), (16, 0.30497533082962036), (7, 0.29316887259483337), (21, 0.27070534229278564), (15, 0.27061855792999268), (23, 0.25700294971466064), (17, 0.24748632311820984), (3, 0.24716483056545258), (20, 0.24527093768119812), (2, 0.23310884833335876), (4, 0.23164081573486328), (6, 0.22810171544551849), (22, 0.21327985823154449), (8, 0.20900405943393707), (10, 0.16753964126110077)]\n",
        "[(12, 0.99999994039535522), (20, 0.9732787013053894), (14, 0.52256935834884644), (1, 0.47653040289878845), (13, 0.44699093699455261), (24, 0.41837367415428162), (0, 0.38627025485038757), (11, 0.35584676265716553), (5, 0.33678069710731506), (9, 0.32214152812957764), (23, 0.31900507211685181), (2, 0.30474841594696045), (19, 0.30017948150634766), (18, 0.28724852204322815), (16, 0.27126830816268921), (21, 0.23846292495727539), (15, 0.23684169352054596), (7, 0.2300838977098465), (3, 0.22823181748390198), (4, 0.20264196395874023), (6, 0.20166808366775513), (22, 0.19533528387546539), (8, 0.18992605805397034), (17, 0.18471616506576538), (10, 0.15429544448852539)]\n",
        "[(13, 0.99999994039535522), (1, 0.99571424722671509), (14, 0.99455523490905762), (5, 0.55891901254653931), (11, 0.4710162878036499), (12, 0.44698071479797363), (21, 0.36526662111282349), (16, 0.36149793863296509), (7, 0.33861634135246277), (23, 0.33328622579574585), (20, 0.32874655723571777), (22, 0.3146783709526062), (15, 0.31244230270385742), (3, 0.30196234583854675), (4, 0.29836219549179077), (8, 0.28164827823638916), (2, 0.279253751039505), (18, 0.27474525570869446), (24, 0.27323645353317261), (9, 0.25861075520515442), (6, 0.24293585121631622), (10, 0.23894816637039185), (17, 0.23663988709449768), (19, 0.18670491874217987), (0, 0.18425491452217102)]\n",
        "[(14, 1.0), (1, 0.99796885251998901), (13, 0.99455916881561279), (5, 0.57684868574142456), (12, 0.52257031202316284), (11, 0.5059659481048584), (20, 0.39995115995407104), (16, 0.3863450288772583), (21, 0.38225051760673523), (7, 0.35603579878807068), (23, 0.35037443041801453), (24, 0.33682882785797119), (15, 0.33488336205482483), (22, 0.32613778114318848), (3, 0.32222220301628113), (18, 0.31809762120246887), (9, 0.31750378012657166), (4, 0.31423735618591309), (2, 0.29786455631256104), (8, 0.29555520415306091), (6, 0.26430946588516235), (17, 0.25474372506141663), (0, 0.25013864040374756), (19, 0.24932324886322021), (10, 0.24894636869430542)]\n",
        "[(15, 0.99999994039535522), (8, 0.99332600831985474), (1, 0.33656534552574158), (14, 0.33488431572914124), (24, 0.32097426056861877), (5, 0.31723505258560181), (13, 0.31245559453964233), (0, 0.28288209438323975), (9, 0.27558544278144836), (11, 0.27061969041824341), (19, 0.26429662108421326), (12, 0.23682896792888641), (18, 0.23235577344894409), (16, 0.20186734199523926), (20, 0.18036189675331116), (21, 0.17675912380218506), (7, 0.16966743767261505), (3, 0.16740451753139496), (23, 0.16639277338981628), (2, 0.15396878123283386), (6, 0.15119306743144989), (4, 0.15098337829113007), (22, 0.14209261536598206), (17, 0.13819736242294312), (10, 0.1122734546661377)]\n",
        "[(16, 1.0), (22, 0.98440444469451904), (1, 0.40494382381439209), (14, 0.38636800646781921), (13, 0.361530601978302), (24, 0.35931605100631714), (0, 0.33404368162155151), (11, 0.30500081181526184), (3, 0.29937544465065002), (9, 0.29087924957275391), (5, 0.28084936738014221), (19, 0.27793848514556885), (12, 0.27127540111541748), (18, 0.25474679470062256), (15, 0.20188242197036743), (21, 0.2012205570936203), (7, 0.19409187138080597), (23, 0.18865138292312622), (20, 0.18674248456954956), (2, 0.17570659518241882), (6, 0.17247037589550018), (4, 0.17161574959754944), (8, 0.15983758866786957), (17, 0.15751515328884125), (10, 0.12922310829162598)]\n",
        "[(17, 1.0000001192092896), (7, 0.99429571628570557), (1, 0.25624850392341614), (14, 0.25474515557289124), (24, 0.24936111271381378), (11, 0.24749279022216797), (13, 0.23665018379688263), (0, 0.23324653506278992), (9, 0.20807424187660217), (19, 0.20035913586616516), (5, 0.18893535435199738), (12, 0.18470853567123413), (18, 0.17900349199771881), (16, 0.15750490128993988), (15, 0.13819871842861176), (21, 0.13654375076293945), (3, 0.13146349787712097), (23, 0.12837634980678558), (20, 0.12667876482009888), (2, 0.1199975460767746), (6, 0.11847621947526932), (4, 0.11679508537054062), (22, 0.11008259654045105), (8, 0.10837805271148682), (10, 0.087292604148387909)]\n",
        "[(18, 1.0), (3, 0.88678640127182007), (19, 0.6625664234161377), (9, 0.60873657464981079), (11, 0.38113352656364441), (24, 0.32553905248641968), (14, 0.31809863448143005), (1, 0.31775596737861633), (0, 0.31038922071456909), (12, 0.28720322251319885), (13, 0.27478203177452087), (5, 0.27017736434936523), (16, 0.25472110509872437), (15, 0.23235511779785156), (21, 0.22047130763530731), (23, 0.21647122502326965), (7, 0.20494154095649719), (6, 0.1972518265247345), (2, 0.19474981725215912), (20, 0.1932409256696701), (4, 0.19309240579605103), (17, 0.17899997532367706), (8, 0.16316241025924683), (22, 0.15942782163619995), (10, 0.12576636672019958)]\n",
        "[(19, 0.99999994039535522), (9, 0.99253672361373901), (18, 0.66256672143936157), (11, 0.46819815039634705), (12, 0.30009463429450989), (16, 0.27790343761444092), (15, 0.2642960250377655), (3, 0.25913810729980469), (5, 0.25659123063087463), (14, 0.24932578206062317), (23, 0.24898277223110199), (1, 0.24539567530155182), (24, 0.24460190534591675), (21, 0.24250933527946472), (0, 0.23922833800315857), (6, 0.22088314592838287), (4, 0.21730667352676392), (7, 0.21505752205848694), (2, 0.21350634098052979), (17, 0.20035389065742493), (20, 0.19813211262226105), (13, 0.18677130341529846), (8, 0.16447988152503967), (22, 0.15368472039699554), (10, 0.11984562128782272)]\n",
        "[(20, 1.0), (12, 0.97325992584228516), (14, 0.39993688464164734), (1, 0.34679916501045227), (13, 0.32874405384063721), (24, 0.27171769738197327), (0, 0.24685055017471313), (11, 0.24526654183864594), (5, 0.23903182148933411), (9, 0.21273678541183472), (19, 0.19813036918640137), (18, 0.19323822855949402), (16, 0.18672536313533783), (15, 0.18039052188396454), (21, 0.16676223278045654), (7, 0.16004723310470581), (3, 0.15676775574684143), (23, 0.15538446605205536), (8, 0.15027056634426117), (2, 0.14258638024330139), (4, 0.14110012352466583), (6, 0.13745753467082977), (22, 0.13724163174629211), (17, 0.12667496502399445), (10, 0.10786783695220947)]\n",
        "[(21, 1.0), (1, 0.38348466157913208), (14, 0.38225281238555908), (13, 0.36527937650680542), (11, 0.27070781588554382), (24, 0.26064178347587585), (9, 0.26042485237121582), (5, 0.2579767107963562), (19, 0.24251121282577515), (12, 0.23845306038856506), (0, 0.23273500800132751), (18, 0.22047314047813416), (16, 0.20120719075202942), (15, 0.17676001787185669), (7, 0.17338541150093079), (23, 0.1713450700044632), (20, 0.16676726937294006), (3, 0.16593647003173828), (4, 0.15465603768825531), (2, 0.15400144457817078), (22, 0.14873126149177551), (6, 0.14721956849098206), (8, 0.14249685406684875), (17, 0.13654330372810364), (10, 0.11612638831138611)]\n",
        "[(22, 1.0), (16, 0.98441112041473389), (1, 0.34499505162239075), (14, 0.32613754272460938), (13, 0.31468382477760315), (3, 0.25095438957214355), (24, 0.22174099087715149), (5, 0.21521663665771484), (11, 0.21327883005142212), (0, 0.19722163677215576), (12, 0.19532977044582367), (9, 0.16960176825523376), (18, 0.15942540764808655), (19, 0.15367995202541351), (21, 0.148729607462883), (7, 0.14209556579589844), (15, 0.14209155738353729), (23, 0.13789898157119751), (20, 0.13724455237388611), (4, 0.12501254677772522), (2, 0.12488500773906708), (6, 0.11848689615726471), (8, 0.11759791523218155), (17, 0.11008110642433167), (10, 0.096718057990074158)]\n",
        "[(23, 1.0), (2, 0.99671840667724609), (1, 0.35132673382759094), (14, 0.35037451982498169), (13, 0.33329790830612183), (12, 0.31916335225105286), (9, 0.30440211296081543), (11, 0.2570033073425293), (19, 0.24898231029510498), (24, 0.23922687768936157), (5, 0.23891451954841614), (18, 0.2164711207151413), (0, 0.21400320529937744), (16, 0.18863692879676819), (21, 0.17134381830692291), (15, 0.16639232635498047), (7, 0.16185316443443298), (20, 0.15538792312145233), (3, 0.15420719981193542), (4, 0.14523889124393463), (6, 0.13851343095302582), (22, 0.13789966702461243), (8, 0.1326095312833786), (17, 0.12837482988834381), (10, 0.1076260507106781)]\n",
        "[(24, 1.0), (0, 0.99563056230545044), (12, 0.41837972402572632), (11, 0.41385155916213989), (5, 0.36930316686630249), (16, 0.35929244756698608), (1, 0.34732407331466675), (14, 0.33683133125305176), (3, 0.33102524280548096), (18, 0.32553979754447937), (15, 0.32097098231315613), (6, 0.28924721479415894), (7, 0.27903598546981812), (13, 0.27324533462524414), (20, 0.27172109484672546), (2, 0.26873788237571716), (21, 0.26064017415046692), (8, 0.25245094299316406), (17, 0.24935896694660187), (19, 0.24460218846797943), (23, 0.23922762274742126), (4, 0.22911284863948822), (22, 0.22174137830734253), (9, 0.22154593467712402), (10, 0.18746238946914673)]\n"
       ]
      }
     ],
     "prompt_number": 76
    }
   ],
   "metadata": {}
  }
 ]
}